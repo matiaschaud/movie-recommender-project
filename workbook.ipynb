{
 "cells": [
  {
   "cell_type": "code",
   "execution_count": 1,
   "id": "45d55bc4-0ebe-4d33-9f9b-318dca0e3983",
   "metadata": {},
   "outputs": [
    {
     "data": {
      "text/plain": [
       "True"
      ]
     },
     "execution_count": 1,
     "metadata": {},
     "output_type": "execute_result"
    }
   ],
   "source": [
    "import os\n",
    "from dotenv import load_dotenv\n",
    "\n",
    "# Load environment variables from .env file\n",
    "load_dotenv(\"../.env-feast\")"
   ]
  },
  {
   "cell_type": "code",
   "execution_count": 2,
   "id": "a94c22bd-fda2-4961-ba5e-c0bb3071aa76",
   "metadata": {},
   "outputs": [
    {
     "name": "stdout",
     "output_type": "stream",
     "text": [
      "{'experiments': [{'created_at': datetime.datetime(2025, 9, 10, 23, 10, 30, tzinfo=tzlocal()),\n",
      "                  'description': None,\n",
      "                  'display_name': 'recommender-movie-training-validation',\n",
      "                  'experiment_id': 'fab88bf8-0642-4c6c-852c-1ead457571d8',\n",
      "                  'last_run_created_at': datetime.datetime(2025, 9, 11, 0, 29, 16, tzinfo=tzlocal()),\n",
      "                  'namespace': 'kubeflow-user-example-com',\n",
      "                  'storage_state': 'AVAILABLE'},\n",
      "                 {'created_at': datetime.datetime(2025, 9, 11, 0, 35, 26, tzinfo=tzlocal()),\n",
      "                  'description': None,\n",
      "                  'display_name': 'movie-recommender-training-validation',\n",
      "                  'experiment_id': '6e551967-4c67-4f97-a221-e50dcf45198b',\n",
      "                  'last_run_created_at': datetime.datetime(2025, 9, 11, 1, 13, 31, tzinfo=tzlocal()),\n",
      "                  'namespace': 'kubeflow-user-example-com',\n",
      "                  'storage_state': 'AVAILABLE'},\n",
      "                 {'created_at': datetime.datetime(2025, 9, 11, 13, 33, 8, tzinfo=tzlocal()),\n",
      "                  'description': None,\n",
      "                  'display_name': 'movie-recommender-training-validation-cuda',\n",
      "                  'experiment_id': '503c2b34-5c36-4390-ae6d-d0ce354d6634',\n",
      "                  'last_run_created_at': datetime.datetime(2025, 9, 12, 0, 57, 34, tzinfo=tzlocal()),\n",
      "                  'namespace': 'kubeflow-user-example-com',\n",
      "                  'storage_state': 'AVAILABLE'},\n",
      "                 {'created_at': datetime.datetime(2025, 9, 12, 22, 18, 8, tzinfo=tzlocal()),\n",
      "                  'description': None,\n",
      "                  'display_name': 'movie-recommender-data-preparation',\n",
      "                  'experiment_id': '33cd04a6-58ff-4122-a20d-793ac30bae97',\n",
      "                  'last_run_created_at': datetime.datetime(2025, 9, 14, 20, 47, 57, tzinfo=tzlocal()),\n",
      "                  'namespace': 'kubeflow-user-example-com',\n",
      "                  'storage_state': 'AVAILABLE'}],\n",
      " 'next_page_token': None,\n",
      " 'total_size': 4}\n"
     ]
    },
    {
     "name": "stderr",
     "output_type": "stream",
     "text": [
      "/opt/conda/envs/movie-recommender-env/lib/python3.11/site-packages/kfp/client/client.py:159: FutureWarning: This client only works with Kubeflow Pipeline v2.0.0-beta.2 and later versions.\n",
      "  warnings.warn(\n"
     ]
    }
   ],
   "source": [
    "import kfp\n",
    "\n",
    "# by default, when run from inside a Kubernetes cluster:\n",
    "#  - the token is read from the `KF_PIPELINES_SA_TOKEN_PATH` path\n",
    "#  - the host is set to `http://ml-pipeline-ui.kubeflow.svc.cluster.local`\n",
    "kfp_client = kfp.Client()\n",
    "\n",
    "# test the client by listing experiments\n",
    "experiments = kfp_client.list_experiments(namespace=\"kubeflow-user-example-com\")\n",
    "print(experiments)"
   ]
  },
  {
   "cell_type": "code",
   "execution_count": 3,
   "id": "85ea319b-e085-479f-baf8-b27ff4eed92f",
   "metadata": {},
   "outputs": [],
   "source": [
    "def run_pipeline_from_func(experiment_name: str,\n",
    "                           run_name: str,\n",
    "                           pipeline_func: callable,\n",
    "                           arguments: dict):\n",
    "    try:\n",
    "        client = kfp.Client()\n",
    "        \n",
    "        run = client.create_run_from_pipeline_func(\n",
    "            pipeline_func=pipeline_func,\n",
    "            arguments=arguments,\n",
    "            experiment_name=experiment_name,\n",
    "            run_name=run_name\n",
    "        )\n",
    "        print(f\"Pipeline run started with ID: {run.run_id}\")\n",
    "        return run\n",
    "    except Exception as e:\n",
    "        print(f\"Error starting pipeline run: {e}\")\n",
    "        return None\n",
    "\n",
    "# Call the function to run the pipeline\n",
    "# run = run_pipeline_from_func()"
   ]
  },
  {
   "cell_type": "code",
   "execution_count": 2,
   "id": "c4e97206-7dca-4040-9471-4b146f997cd2",
   "metadata": {},
   "outputs": [],
   "source": [
    "for experiment in experiments.experiments:\n",
    "    if experiment.display_name not in ('recommender-movie-training-validation', 'default'):\n",
    "        kfp_client.delete_experiment(experiment.experiment_id)"
   ]
  },
  {
   "cell_type": "code",
   "execution_count": 3,
   "id": "b5604367-afba-42d3-8913-8fdeebc595eb",
   "metadata": {},
   "outputs": [
    {
     "data": {
      "text/html": [
       "<a href=\"/pipeline/#/experiments/details/33cd04a6-58ff-4122-a20d-793ac30bae97\" target=\"_blank\" >Experiment details</a>."
      ],
      "text/plain": [
       "<IPython.core.display.HTML object>"
      ]
     },
     "metadata": {},
     "output_type": "display_data"
    },
    {
     "name": "stdout",
     "output_type": "stream",
     "text": [
      "Experimento \"movie-recommender-data-preparation\" creado con éxito.\n"
     ]
    }
   ],
   "source": [
    "# Define el nombre del experimento\n",
    "experiment_name = 'movie-recommender-data-preparation'\n",
    "\n",
    "# Crea el experimento si no existe\n",
    "try:\n",
    "    experiment = kfp_client.create_experiment(name=experiment_name)\n",
    "    print(f'Experimento \"{experiment_name}\" creado con éxito.')\n",
    "except Exception as e:\n",
    "    print(e)\n",
    "    # print(f'Error al crear el experimento, probablemente ya existe. Usando el experimento existente.')\n",
    "    # experiment = client.get_experiment(experiment_name=experiment_name)"
   ]
  },
  {
   "cell_type": "code",
   "execution_count": 4,
   "id": "86334034-a332-4b89-92c1-fd8735ae3400",
   "metadata": {},
   "outputs": [
    {
     "data": {
      "text/html": [
       "<a href=\"/pipeline/#/experiments/details/33cd04a6-58ff-4122-a20d-793ac30bae97\" target=\"_blank\" >Experiment details</a>."
      ],
      "text/plain": [
       "<IPython.core.display.HTML object>"
      ]
     },
     "metadata": {},
     "output_type": "display_data"
    },
    {
     "data": {
      "text/html": [
       "<a href=\"/pipeline/#/runs/details/c0e16686-82eb-4094-860d-9f1c5bc330fa\" target=\"_blank\" >Run details</a>."
      ],
      "text/plain": [
       "<IPython.core.display.HTML object>"
      ]
     },
     "metadata": {},
     "output_type": "display_data"
    },
    {
     "name": "stdout",
     "output_type": "stream",
     "text": [
      "Pipeline run started with ID: c0e16686-82eb-4094-860d-9f1c5bc330fa\n"
     ]
    },
    {
     "data": {
      "text/plain": [
       "RunPipelineResult(run_id=c0e16686-82eb-4094-860d-9f1c5bc330fa)"
      ]
     },
     "execution_count": 4,
     "metadata": {},
     "output_type": "execute_result"
    }
   ],
   "source": [
    "from data_preparation_pipeline import dataprep_pipeline\n",
    "\n",
    "experiment_name = 'movie-recommender-data-preparation'\n",
    "\n",
    "run_pipeline_from_func(experiment_name = experiment_name,\n",
    "                       run_name='Data Prep Pipeline Run',\n",
    "                       pipeline_func = dataprep_pipeline,\n",
    "                       arguments = {'minio_bucket': 'datasets',\n",
    "                                    'random_init': 42,\n",
    "                                     'db_name':os.environ[\"POSTGRES_DB\"],\n",
    "                                     'db_user':os.environ[\"POSTGRES_USER\"],\n",
    "                                     'db_password':os.environ[\"POSTGRES_PASSWORD\"]})"
   ]
  },
  {
   "cell_type": "code",
   "execution_count": 4,
   "id": "9afc6177-52d2-49ee-b67b-435bfa981e3b",
   "metadata": {},
   "outputs": [
    {
     "data": {
      "text/html": [
       "<a href=\"/pipeline/#/experiments/details/6e551967-4c67-4f97-a221-e50dcf45198b\" target=\"_blank\" >Experiment details</a>."
      ],
      "text/plain": [
       "<IPython.core.display.HTML object>"
      ]
     },
     "metadata": {},
     "output_type": "display_data"
    },
    {
     "name": "stdout",
     "output_type": "stream",
     "text": [
      "Experimento \"movie-recommender-training-validation\" creado con éxito.\n"
     ]
    }
   ],
   "source": [
    "# Define el nombre del experimento\n",
    "experiment_name = 'movie-recommender-training-validation'\n",
    "\n",
    "# Crea el experimento si no existe\n",
    "try:\n",
    "    experiment = kfp_client.create_experiment(name=experiment_name)\n",
    "    print(f'Experimento \"{experiment_name}\" creado con éxito.')\n",
    "except Exception as e:\n",
    "    print(e)\n",
    "    # print(f'Error al crear el experimento, probablemente ya existe. Usando el experimento existente.')\n",
    "    # experiment = client.get_experiment(experiment_name=experiment_name)"
   ]
  },
  {
   "cell_type": "code",
   "execution_count": 5,
   "id": "d1a32017-f244-4d6a-868d-87f8083b6dc2",
   "metadata": {},
   "outputs": [
    {
     "data": {
      "text/html": [
       "<a href=\"/pipeline/#/experiments/details/6e551967-4c67-4f97-a221-e50dcf45198b\" target=\"_blank\" >Experiment details</a>."
      ],
      "text/plain": [
       "<IPython.core.display.HTML object>"
      ]
     },
     "metadata": {},
     "output_type": "display_data"
    },
    {
     "data": {
      "text/html": [
       "<a href=\"/pipeline/#/runs/details/11d8cee6-d53b-44d8-b882-4c4ef568f10f\" target=\"_blank\" >Run details</a>."
      ],
      "text/plain": [
       "<IPython.core.display.HTML object>"
      ]
     },
     "metadata": {},
     "output_type": "display_data"
    },
    {
     "name": "stdout",
     "output_type": "stream",
     "text": [
      "Pipeline run started with ID: 11d8cee6-d53b-44d8-b882-4c4ef568f10f\n"
     ]
    },
    {
     "data": {
      "text/plain": [
       "RunPipelineResult(run_id=11d8cee6-d53b-44d8-b882-4c4ef568f10f)"
      ]
     },
     "execution_count": 5,
     "metadata": {},
     "output_type": "execute_result"
    }
   ],
   "source": [
    "from training_and_validation import training_pipeline\n",
    "\n",
    "experiment_name = 'movie-recommender-training-validation'\n",
    "\n",
    "run_pipeline_from_func(experiment_name = experiment_name,\n",
    "                       run_name='Training and validation',\n",
    "                       pipeline_func = training_pipeline,\n",
    "                       arguments = {})"
   ]
  },
  {
   "cell_type": "code",
   "execution_count": 3,
   "id": "752d13a1-cff3-4e37-8f25-9d7822399353",
   "metadata": {},
   "outputs": [
    {
     "data": {
      "text/html": [
       "<a href=\"/pipeline/#/experiments/details/503c2b34-5c36-4390-ae6d-d0ce354d6634\" target=\"_blank\" >Experiment details</a>."
      ],
      "text/plain": [
       "<IPython.core.display.HTML object>"
      ]
     },
     "metadata": {},
     "output_type": "display_data"
    },
    {
     "name": "stdout",
     "output_type": "stream",
     "text": [
      "Experimento \"movie-recommender-training-validation-cuda\" creado con éxito.\n"
     ]
    }
   ],
   "source": [
    "# Define el nombre del experimento\n",
    "experiment_name = 'movie-recommender-training-validation-cuda'\n",
    "\n",
    "# Crea el experimento si no existe\n",
    "try:\n",
    "    experiment = kfp_client.create_experiment(name=experiment_name)\n",
    "    print(f'Experimento \"{experiment_name}\" creado con éxito.')\n",
    "except Exception as e:\n",
    "    print(e)\n",
    "    # print(f'Error al crear el experimento, probablemente ya existe. Usando el experimento existente.')\n",
    "    # experiment = client.get_experiment(experiment_name=experiment_name)"
   ]
  },
  {
   "cell_type": "code",
   "execution_count": 4,
   "id": "0f44f69b-7f19-4468-bae6-fb1b413f9263",
   "metadata": {},
   "outputs": [
    {
     "name": "stderr",
     "output_type": "stream",
     "text": [
      "/opt/conda/envs/movie-recommender-env/lib/python3.11/site-packages/kfp/dsl/component_decorator.py:126: FutureWarning: The default base_image used by the @dsl.component decorator will switch from 'python:3.9' to 'python:3.10' on Oct 1, 2025. To ensure your existing components work with versions of the KFP SDK released after that date, you should provide an explicit base_image argument and ensure your component works as intended on Python 3.10.\n",
      "  return component_factory.create_component_from_func(\n"
     ]
    },
    {
     "data": {
      "text/html": [
       "<a href=\"/pipeline/#/experiments/details/503c2b34-5c36-4390-ae6d-d0ce354d6634\" target=\"_blank\" >Experiment details</a>."
      ],
      "text/plain": [
       "<IPython.core.display.HTML object>"
      ]
     },
     "metadata": {},
     "output_type": "display_data"
    },
    {
     "data": {
      "text/html": [
       "<a href=\"/pipeline/#/runs/details/251d7ac9-1d06-4a3f-b263-c9a0a588136c\" target=\"_blank\" >Run details</a>."
      ],
      "text/plain": [
       "<IPython.core.display.HTML object>"
      ]
     },
     "metadata": {},
     "output_type": "display_data"
    },
    {
     "name": "stdout",
     "output_type": "stream",
     "text": [
      "Pipeline run started with ID: 251d7ac9-1d06-4a3f-b263-c9a0a588136c\n"
     ]
    },
    {
     "data": {
      "text/plain": [
       "RunPipelineResult(run_id=251d7ac9-1d06-4a3f-b263-c9a0a588136c)"
      ]
     },
     "execution_count": 4,
     "metadata": {},
     "output_type": "execute_result"
    }
   ],
   "source": [
    "from training_and_validation_cuda import training_pipeline_cuda\n",
    "\n",
    "run_pipeline_from_func(experiment_name = experiment_name,\n",
    "                       run_name='Training and validation',\n",
    "                       pipeline_func = training_pipeline_cuda,\n",
    "                       arguments = {\"training_epochs\": 1})"
   ]
  },
  {
   "cell_type": "markdown",
   "id": "1fbe859e-ab43-43d7-9cf2-3b40635df3b9",
   "metadata": {},
   "source": [
    "# "
   ]
  }
 ],
 "metadata": {
  "kernelspec": {
   "display_name": "Movie recommender project",
   "language": "python",
   "name": "movie-recommender-env"
  },
  "language_info": {
   "codemirror_mode": {
    "name": "ipython",
    "version": 3
   },
   "file_extension": ".py",
   "mimetype": "text/x-python",
   "name": "python",
   "nbconvert_exporter": "python",
   "pygments_lexer": "ipython3",
   "version": "3.11.13"
  }
 },
 "nbformat": 4,
 "nbformat_minor": 5
}
