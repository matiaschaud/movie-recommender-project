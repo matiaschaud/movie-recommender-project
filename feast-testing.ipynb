{
 "cells": [
  {
   "cell_type": "code",
   "execution_count": 1,
   "id": "857553fe-9c41-4fe4-a426-37382bac4abe",
   "metadata": {},
   "outputs": [
    {
     "data": {
      "text/plain": [
       "True"
      ]
     },
     "execution_count": 1,
     "metadata": {},
     "output_type": "execute_result"
    }
   ],
   "source": [
    "import os\n",
    "from dotenv import load_dotenv\n",
    "\n",
    "# Load environment variables from .env file\n",
    "load_dotenv(\"../.env-feast\")"
   ]
  },
  {
   "cell_type": "code",
   "execution_count": 2,
   "id": "486bf827-ff90-45c4-a692-b05f7c13c94b",
   "metadata": {},
   "outputs": [],
   "source": [
    "import psycopg2\n",
    "import os\n",
    "\n",
    "def query_postgres(query: str):\n",
    "    \"\"\"\n",
    "    Connects to the PostgreSQL database in the 'feast' namespace,\n",
    "    executes a provided query, and returns the results.\n",
    "\n",
    "    Args:\n",
    "        query (str): The SQL query string to be executed.\n",
    "\n",
    "    Returns:\n",
    "        list: A list of tuples containing the fetched rows. Returns an empty list on failure.\n",
    "    \"\"\"\n",
    "    conn = None\n",
    "    rows = []\n",
    "    try:\n",
    "        conn_params = {\n",
    "            'host': 'postgres-postgresql.feast.svc.cluster.local',\n",
    "            'database': os.environ[\"POSTGRES_DB\"],\n",
    "            'user': os.environ[\"POSTGRES_USER\"],\n",
    "            'password': os.environ[\"POSTGRES_PASSWORD\"],\n",
    "            'port': '5432'\n",
    "        }\n",
    "\n",
    "        conn = psycopg2.connect(**conn_params)\n",
    "        cursor = conn.cursor()\n",
    "\n",
    "        # Execute the query passed as an argument\n",
    "        cursor.execute(query)\n",
    "\n",
    "        # Fetch all results\n",
    "        if cursor.description:  # Check if the query returns data\n",
    "            rows = cursor.fetchall()\n",
    "            print(\"Query executed successfully.\")\n",
    "        else:\n",
    "            conn.commit()  # Commit for non-select queries (e.g., INSERT, UPDATE, DELETE)\n",
    "            print(\"Non-SELECT query executed successfully.\")\n",
    "\n",
    "    except psycopg2.Error as e:\n",
    "        print(f\"Error executing PostgreSQL query: {e}\")\n",
    "\n",
    "    finally:\n",
    "        if conn:\n",
    "            conn.close()\n",
    "            print(\"Database connection closed.\")\n",
    "    \n",
    "    return rows\n"
   ]
  },
  {
   "cell_type": "code",
   "execution_count": 3,
   "id": "2c1ff0ce-0450-4b1c-9c69-9530d95059b5",
   "metadata": {},
   "outputs": [
    {
     "name": "stdout",
     "output_type": "stream",
     "text": [
      "Error executing PostgreSQL query: relation \"ratings\" does not exist\n",
      "LINE 1: ...ovieid, to_timestamp(timestamp) as timestamp FROM ratings li...\n",
      "                                                             ^\n",
      "\n",
      "Database connection closed.\n"
     ]
    }
   ],
   "source": [
    "import pandas as pd\n",
    "\n",
    "all_entities = query_postgres(\"SELECT userid, movieid, to_timestamp(timestamp) as timestamp FROM ratings limit 10;\")\n",
    "# entity_df = pd.DataFrame(all_entities, columns=[\"userid\", \"movieid\", \"event_timestamp\"])"
   ]
  },
  {
   "cell_type": "code",
   "execution_count": 11,
   "id": "8eb90094-7a4b-4706-a1c4-197f9aec35e1",
   "metadata": {},
   "outputs": [
    {
     "name": "stderr",
     "output_type": "stream",
     "text": [
      "/opt/conda/envs/movie-recommender-env/lib/python3.11/site-packages/feast/infra/utils/postgres/connection_utils.py:116: UserWarning: pandas only supports SQLAlchemy connectable (engine/connection) or database string URI or sqlite3 DBAPI2 connection. Other DBAPI2 objects are not tested. Please consider using SQLAlchemy.\n",
      "  df = pd.read_sql(\n"
     ]
    }
   ],
   "source": [
    "import pandas as pd\n",
    "from datetime import datetime\n",
    "from feast import FeatureStore\n",
    "\n",
    "# 1. Instantiate the FeatureStore\n",
    "store = FeatureStore(repo_path=\"./feast\")\n",
    "\n",
    "# 2. Define your entity dataframe with historical data.\n",
    "entity_df_sql = \"SELECT userid, movieid, to_timestamp(timestamp) as event_timestamp FROM ratings limit 500000\"\n",
    "\n",
    "# 3. Retrieve the historical features using the FeatureService\n",
    "training_data = store.get_historical_features(\n",
    "    entity_df=entity_df_sql,\n",
    "    features=store.get_feature_service(\"movie_recommender_service_all\"),\n",
    ")"
   ]
  },
  {
   "cell_type": "code",
   "execution_count": 12,
   "id": "b2555aa1-b8b1-447e-9844-889e6a80213d",
   "metadata": {},
   "outputs": [],
   "source": [
    "# 4. Convert the result to a Pandas DataFrame and print it\n",
    "df = training_data.to_df()"
   ]
  },
  {
   "cell_type": "code",
   "execution_count": 13,
   "id": "a484c67e-7d6f-42af-853f-72876d15c198",
   "metadata": {},
   "outputs": [
    {
     "data": {
      "text/html": [
       "<div>\n",
       "<style scoped>\n",
       "    .dataframe tbody tr th:only-of-type {\n",
       "        vertical-align: middle;\n",
       "    }\n",
       "\n",
       "    .dataframe tbody tr th {\n",
       "        vertical-align: top;\n",
       "    }\n",
       "\n",
       "    .dataframe thead th {\n",
       "        text-align: right;\n",
       "    }\n",
       "</style>\n",
       "<table border=\"1\" class=\"dataframe\">\n",
       "  <thead>\n",
       "    <tr style=\"text-align: right;\">\n",
       "      <th></th>\n",
       "      <th>userid</th>\n",
       "      <th>movieid</th>\n",
       "      <th>event_timestamp</th>\n",
       "      <th>rating</th>\n",
       "      <th>title</th>\n",
       "      <th>genres</th>\n",
       "    </tr>\n",
       "  </thead>\n",
       "  <tbody>\n",
       "    <tr>\n",
       "      <th>0</th>\n",
       "      <td>3788</td>\n",
       "      <td>110</td>\n",
       "      <td>2015-03-13 04:48:00</td>\n",
       "      <td>2.5</td>\n",
       "      <td>Braveheart (1995)</td>\n",
       "      <td>Action|Drama|War</td>\n",
       "    </tr>\n",
       "    <tr>\n",
       "      <th>1</th>\n",
       "      <td>3788</td>\n",
       "      <td>541</td>\n",
       "      <td>2015-03-13 04:54:02</td>\n",
       "      <td>4.5</td>\n",
       "      <td>Blade Runner (1982)</td>\n",
       "      <td>Action|Sci-Fi|Thriller</td>\n",
       "    </tr>\n",
       "    <tr>\n",
       "      <th>2</th>\n",
       "      <td>3788</td>\n",
       "      <td>1198</td>\n",
       "      <td>2015-03-13 04:55:16</td>\n",
       "      <td>3.5</td>\n",
       "      <td>Raiders of the Lost Ark (Indiana Jones and the...</td>\n",
       "      <td>Action|Adventure</td>\n",
       "    </tr>\n",
       "    <tr>\n",
       "      <th>3</th>\n",
       "      <td>3788</td>\n",
       "      <td>1291</td>\n",
       "      <td>2015-03-13 04:47:58</td>\n",
       "      <td>3.0</td>\n",
       "      <td>Indiana Jones and the Last Crusade (1989)</td>\n",
       "      <td>Action|Adventure</td>\n",
       "    </tr>\n",
       "    <tr>\n",
       "      <th>4</th>\n",
       "      <td>3789</td>\n",
       "      <td>1036</td>\n",
       "      <td>2016-04-08 16:33:20</td>\n",
       "      <td>4.5</td>\n",
       "      <td>Die Hard (1988)</td>\n",
       "      <td>Action|Crime|Thriller</td>\n",
       "    </tr>\n",
       "    <tr>\n",
       "      <th>...</th>\n",
       "      <td>...</td>\n",
       "      <td>...</td>\n",
       "      <td>...</td>\n",
       "      <td>...</td>\n",
       "      <td>...</td>\n",
       "      <td>...</td>\n",
       "    </tr>\n",
       "    <tr>\n",
       "      <th>499995</th>\n",
       "      <td>7079</td>\n",
       "      <td>4993</td>\n",
       "      <td>2016-08-07 00:35:49</td>\n",
       "      <td>4.0</td>\n",
       "      <td>Lord of the Rings: The Fellowship of the Ring,...</td>\n",
       "      <td>Adventure|Fantasy</td>\n",
       "    </tr>\n",
       "    <tr>\n",
       "      <th>499996</th>\n",
       "      <td>7079</td>\n",
       "      <td>5378</td>\n",
       "      <td>2017-08-13 12:46:38</td>\n",
       "      <td>4.5</td>\n",
       "      <td>Star Wars: Episode II - Attack of the Clones (...</td>\n",
       "      <td>Action|Adventure|Sci-Fi|IMAX</td>\n",
       "    </tr>\n",
       "    <tr>\n",
       "      <th>499997</th>\n",
       "      <td>7079</td>\n",
       "      <td>6333</td>\n",
       "      <td>2016-08-07 00:37:41</td>\n",
       "      <td>4.0</td>\n",
       "      <td>X2: X-Men United (2003)</td>\n",
       "      <td>Action|Adventure|Sci-Fi|Thriller</td>\n",
       "    </tr>\n",
       "    <tr>\n",
       "      <th>499998</th>\n",
       "      <td>7079</td>\n",
       "      <td>6764</td>\n",
       "      <td>2016-08-21 00:05:18</td>\n",
       "      <td>4.5</td>\n",
       "      <td>Rundown, The (2003)</td>\n",
       "      <td>Action|Adventure|Comedy</td>\n",
       "    </tr>\n",
       "    <tr>\n",
       "      <th>499999</th>\n",
       "      <td>7079</td>\n",
       "      <td>8783</td>\n",
       "      <td>2017-08-13 12:50:40</td>\n",
       "      <td>4.5</td>\n",
       "      <td>Village, The (2004)</td>\n",
       "      <td>Drama|Mystery|Thriller</td>\n",
       "    </tr>\n",
       "  </tbody>\n",
       "</table>\n",
       "<p>500000 rows × 6 columns</p>\n",
       "</div>"
      ],
      "text/plain": [
       "        userid  movieid     event_timestamp  rating  \\\n",
       "0         3788      110 2015-03-13 04:48:00     2.5   \n",
       "1         3788      541 2015-03-13 04:54:02     4.5   \n",
       "2         3788     1198 2015-03-13 04:55:16     3.5   \n",
       "3         3788     1291 2015-03-13 04:47:58     3.0   \n",
       "4         3789     1036 2016-04-08 16:33:20     4.5   \n",
       "...        ...      ...                 ...     ...   \n",
       "499995    7079     4993 2016-08-07 00:35:49     4.0   \n",
       "499996    7079     5378 2017-08-13 12:46:38     4.5   \n",
       "499997    7079     6333 2016-08-07 00:37:41     4.0   \n",
       "499998    7079     6764 2016-08-21 00:05:18     4.5   \n",
       "499999    7079     8783 2017-08-13 12:50:40     4.5   \n",
       "\n",
       "                                                    title  \\\n",
       "0                                       Braveheart (1995)   \n",
       "1                                     Blade Runner (1982)   \n",
       "2       Raiders of the Lost Ark (Indiana Jones and the...   \n",
       "3               Indiana Jones and the Last Crusade (1989)   \n",
       "4                                         Die Hard (1988)   \n",
       "...                                                   ...   \n",
       "499995  Lord of the Rings: The Fellowship of the Ring,...   \n",
       "499996  Star Wars: Episode II - Attack of the Clones (...   \n",
       "499997                            X2: X-Men United (2003)   \n",
       "499998                                Rundown, The (2003)   \n",
       "499999                                Village, The (2004)   \n",
       "\n",
       "                                  genres  \n",
       "0                       Action|Drama|War  \n",
       "1                 Action|Sci-Fi|Thriller  \n",
       "2                       Action|Adventure  \n",
       "3                       Action|Adventure  \n",
       "4                  Action|Crime|Thriller  \n",
       "...                                  ...  \n",
       "499995                 Adventure|Fantasy  \n",
       "499996      Action|Adventure|Sci-Fi|IMAX  \n",
       "499997  Action|Adventure|Sci-Fi|Thriller  \n",
       "499998           Action|Adventure|Comedy  \n",
       "499999            Drama|Mystery|Thriller  \n",
       "\n",
       "[500000 rows x 6 columns]"
      ]
     },
     "execution_count": 13,
     "metadata": {},
     "output_type": "execute_result"
    }
   ],
   "source": [
    "df"
   ]
  },
  {
   "cell_type": "code",
   "execution_count": null,
   "id": "a5a01464-b6ad-4f50-9e2c-cb076fce4b65",
   "metadata": {},
   "outputs": [],
   "source": [
    "import pandas as pd\n",
    "from datetime import datetime\n",
    "from feast import FeatureStore\n",
    "\n",
    "# 1. Instantiate the FeatureStore\n",
    "store = FeatureStore(repo_path=\"./feast\")"
   ]
  },
  {
   "cell_type": "code",
   "execution_count": null,
   "id": "5629a8d8-333b-4415-b7ec-b0d94899de9a",
   "metadata": {},
   "outputs": [],
   "source": []
  },
  {
   "cell_type": "code",
   "execution_count": 19,
   "id": "71ebcfbb-35d6-4eb9-90a3-caeea7179db5",
   "metadata": {},
   "outputs": [],
   "source": [
    "entity_rows = {\n",
    "        \"userid\": [1, 1],\n",
    "        \"movieid\": [296, 306]\n",
    "    }"
   ]
  },
  {
   "cell_type": "code",
   "execution_count": 20,
   "id": "4b10d92f-8fc4-468f-b5fd-e1d663f99697",
   "metadata": {},
   "outputs": [],
   "source": [
    "training_data = store.get_online_features(\n",
    "    entity_rows=entity_rows,\n",
    "    features=store.get_feature_service(\"movie_recommender_service_all\"),\n",
    ")"
   ]
  },
  {
   "cell_type": "code",
   "execution_count": 21,
   "id": "db4bb29b-bcb0-4cc2-a098-4d0d37968f2b",
   "metadata": {},
   "outputs": [
    {
     "data": {
      "text/plain": [
       "{'userid': [1, 1],\n",
       " 'movieid': [296, 306],\n",
       " 'rating': [5.0, 3.5],\n",
       " 'genres': ['Comedy|Crime|Drama|Thriller', 'Drama'],\n",
       " 'title': ['Pulp Fiction (1994)',\n",
       "  'Three Colors: Red (Trois couleurs: Rouge) (1994)']}"
      ]
     },
     "execution_count": 21,
     "metadata": {},
     "output_type": "execute_result"
    }
   ],
   "source": [
    "training_data.to_dict()"
   ]
  },
  {
   "cell_type": "code",
   "execution_count": 26,
   "id": "46a56537-f34c-4280-b77c-2d4000cf78dd",
   "metadata": {},
   "outputs": [
    {
     "data": {
      "text/plain": [
       "{'movieid': [296],\n",
       " 'genres': ['Comedy|Crime|Drama|Thriller'],\n",
       " 'title': ['Pulp Fiction (1994)']}"
      ]
     },
     "execution_count": 26,
     "metadata": {},
     "output_type": "execute_result"
    }
   ],
   "source": [
    "store.get_online_features(\n",
    "    entity_rows={\"movieid\": [296]},\n",
    "    features=[\n",
    "        \"movie_details_feature_view:genres\",\n",
    "        \"movie_details_feature_view:title\",\n",
    "    ],\n",
    ").to_dict()"
   ]
  }
 ],
 "metadata": {
  "kernelspec": {
   "display_name": "Movie recommender project",
   "language": "python",
   "name": "movie-recommender-env"
  },
  "language_info": {
   "codemirror_mode": {
    "name": "ipython",
    "version": 3
   },
   "file_extension": ".py",
   "mimetype": "text/x-python",
   "name": "python",
   "nbconvert_exporter": "python",
   "pygments_lexer": "ipython3",
   "version": "3.11.13"
  }
 },
 "nbformat": 4,
 "nbformat_minor": 5
}
