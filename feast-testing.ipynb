{
 "cells": [
  {
   "cell_type": "markdown",
   "id": "0fb578e0-ed11-4374-89db-ddd3b1e40128",
   "metadata": {},
   "source": [
    "# Feast - using online and offline stores"
   ]
  },
  {
   "cell_type": "markdown",
   "id": "a8ec6991-aa39-41e9-abcb-8de67ae5b1bf",
   "metadata": {},
   "source": [
    "Load the credentials"
   ]
  },
  {
   "cell_type": "code",
   "execution_count": 1,
   "id": "857553fe-9c41-4fe4-a426-37382bac4abe",
   "metadata": {},
   "outputs": [
    {
     "data": {
      "text/plain": [
       "True"
      ]
     },
     "execution_count": 1,
     "metadata": {},
     "output_type": "execute_result"
    }
   ],
   "source": [
    "import os\n",
    "from dotenv import load_dotenv\n",
    "\n",
    "# Load environment variables from .env file\n",
    "load_dotenv(\"../.env-feast\")"
   ]
  },
  {
   "cell_type": "markdown",
   "id": "5142bcbf-c789-43fe-b545-088501547249",
   "metadata": {},
   "source": [
    "## Offline store (BigQuery)"
   ]
  },
  {
   "cell_type": "markdown",
   "id": "3bba5d00-b124-4360-a2e4-1760085985ba",
   "metadata": {},
   "source": [
    "### Testing get historical features"
   ]
  },
  {
   "cell_type": "code",
   "execution_count": 2,
   "id": "8eb90094-7a4b-4706-a1c4-197f9aec35e1",
   "metadata": {},
   "outputs": [
    {
     "name": "stderr",
     "output_type": "stream",
     "text": [
      "WARNING: All log messages before absl::InitializeLog() is called are written to STDERR\n",
      "E0000 00:00:1758929485.777040    2973 alts_credentials.cc:93] ALTS creds ignored. Not running on GCP and untrusted ALTS is not enabled.\n"
     ]
    }
   ],
   "source": [
    "import pandas as pd\n",
    "from datetime import datetime\n",
    "from feast import FeatureStore\n",
    "\n",
    "# 1. Instantiate the FeatureStore\n",
    "store = FeatureStore(repo_path=\"./feast\")\n",
    "\n",
    "# 2. Define your entity dataframe with historical data.\n",
    "entity_df_sql = \"\"\"\n",
    "SELECT \n",
    "    userid, \n",
    "    movieid, \n",
    "    TIMESTAMP_SECONDS(timestamp) AS event_timestamp \n",
    "FROM \n",
    "    `tesis-master-ciencia-de-datos.feast_staging.ratings` \n",
    "TABLESAMPLE SYSTEM (1 PERCENT) \n",
    "LIMIT 500000\n",
    "\"\"\"\n",
    "\n",
    "# 3. Retrieve the historical features using the FeatureService\n",
    "training_data = store.get_historical_features(\n",
    "    entity_df=entity_df_sql,\n",
    "    features=store.get_feature_service(\"movie_recommender_service_all\"),\n",
    ")"
   ]
  },
  {
   "cell_type": "code",
   "execution_count": 3,
   "id": "b2555aa1-b8b1-447e-9844-889e6a80213d",
   "metadata": {},
   "outputs": [
    {
     "name": "stderr",
     "output_type": "stream",
     "text": [
      "E0000 00:00:1758929519.761773    2973 alts_credentials.cc:93] ALTS creds ignored. Not running on GCP and untrusted ALTS is not enabled.\n"
     ]
    }
   ],
   "source": [
    "# 4. Convert the result to a Pandas DataFrame and print it\n",
    "df = training_data.to_df()"
   ]
  },
  {
   "cell_type": "code",
   "execution_count": 4,
   "id": "a484c67e-7d6f-42af-853f-72876d15c198",
   "metadata": {},
   "outputs": [
    {
     "data": {
      "text/html": [
       "<div>\n",
       "<style scoped>\n",
       "    .dataframe tbody tr th:only-of-type {\n",
       "        vertical-align: middle;\n",
       "    }\n",
       "\n",
       "    .dataframe tbody tr th {\n",
       "        vertical-align: top;\n",
       "    }\n",
       "\n",
       "    .dataframe thead th {\n",
       "        text-align: right;\n",
       "    }\n",
       "</style>\n",
       "<table border=\"1\" class=\"dataframe\">\n",
       "  <thead>\n",
       "    <tr style=\"text-align: right;\">\n",
       "      <th></th>\n",
       "      <th>userid</th>\n",
       "      <th>movieid</th>\n",
       "      <th>event_timestamp</th>\n",
       "      <th>rating</th>\n",
       "      <th>title</th>\n",
       "      <th>genres</th>\n",
       "    </tr>\n",
       "  </thead>\n",
       "  <tbody>\n",
       "    <tr>\n",
       "      <th>0</th>\n",
       "      <td>23346</td>\n",
       "      <td>1</td>\n",
       "      <td>1997-05-23 20:46:08+00:00</td>\n",
       "      <td>3.0</td>\n",
       "      <td>None</td>\n",
       "      <td>None</td>\n",
       "    </tr>\n",
       "    <tr>\n",
       "      <th>1</th>\n",
       "      <td>155777</td>\n",
       "      <td>1</td>\n",
       "      <td>2000-12-03 01:25:17+00:00</td>\n",
       "      <td>4.0</td>\n",
       "      <td>Toy Story (1995)</td>\n",
       "      <td>Adventure|Animation|Children|Comedy|Fantasy</td>\n",
       "    </tr>\n",
       "    <tr>\n",
       "      <th>2</th>\n",
       "      <td>84085</td>\n",
       "      <td>1</td>\n",
       "      <td>1999-11-18 15:23:22+00:00</td>\n",
       "      <td>3.0</td>\n",
       "      <td>None</td>\n",
       "      <td>None</td>\n",
       "    </tr>\n",
       "    <tr>\n",
       "      <th>3</th>\n",
       "      <td>111078</td>\n",
       "      <td>1</td>\n",
       "      <td>2005-11-04 20:55:42+00:00</td>\n",
       "      <td>4.5</td>\n",
       "      <td>Toy Story (1995)</td>\n",
       "      <td>Adventure|Animation|Children|Comedy|Fantasy</td>\n",
       "    </tr>\n",
       "    <tr>\n",
       "      <th>4</th>\n",
       "      <td>123808</td>\n",
       "      <td>1</td>\n",
       "      <td>1997-05-30 13:24:03+00:00</td>\n",
       "      <td>4.0</td>\n",
       "      <td>None</td>\n",
       "      <td>None</td>\n",
       "    </tr>\n",
       "    <tr>\n",
       "      <th>...</th>\n",
       "      <td>...</td>\n",
       "      <td>...</td>\n",
       "      <td>...</td>\n",
       "      <td>...</td>\n",
       "      <td>...</td>\n",
       "      <td>...</td>\n",
       "    </tr>\n",
       "    <tr>\n",
       "      <th>499995</th>\n",
       "      <td>94770</td>\n",
       "      <td>208679</td>\n",
       "      <td>2019-11-09 23:22:01+00:00</td>\n",
       "      <td>4.0</td>\n",
       "      <td>Deer Boy (2017)</td>\n",
       "      <td>Drama|Fantasy</td>\n",
       "    </tr>\n",
       "    <tr>\n",
       "      <th>499996</th>\n",
       "      <td>29065</td>\n",
       "      <td>208793</td>\n",
       "      <td>2019-11-14 17:44:06+00:00</td>\n",
       "      <td>3.5</td>\n",
       "      <td>Watchman (2019)</td>\n",
       "      <td>Drama|Thriller</td>\n",
       "    </tr>\n",
       "    <tr>\n",
       "      <th>499997</th>\n",
       "      <td>115835</td>\n",
       "      <td>208806</td>\n",
       "      <td>2019-11-13 18:06:45+00:00</td>\n",
       "      <td>4.0</td>\n",
       "      <td>First Man on the Moon (2012)</td>\n",
       "      <td>Documentary</td>\n",
       "    </tr>\n",
       "    <tr>\n",
       "      <th>499998</th>\n",
       "      <td>96399</td>\n",
       "      <td>209063</td>\n",
       "      <td>2019-11-17 20:05:28+00:00</td>\n",
       "      <td>4.0</td>\n",
       "      <td>The Prep School Negro (2012)</td>\n",
       "      <td>(no genres listed)</td>\n",
       "    </tr>\n",
       "    <tr>\n",
       "      <th>499999</th>\n",
       "      <td>145795</td>\n",
       "      <td>209137</td>\n",
       "      <td>2019-11-20 04:49:30+00:00</td>\n",
       "      <td>0.5</td>\n",
       "      <td>The Reward's Yours... The Man's Mine (1969)</td>\n",
       "      <td>Western</td>\n",
       "    </tr>\n",
       "  </tbody>\n",
       "</table>\n",
       "<p>500000 rows × 6 columns</p>\n",
       "</div>"
      ],
      "text/plain": [
       "        userid  movieid           event_timestamp  rating  \\\n",
       "0        23346        1 1997-05-23 20:46:08+00:00     3.0   \n",
       "1       155777        1 2000-12-03 01:25:17+00:00     4.0   \n",
       "2        84085        1 1999-11-18 15:23:22+00:00     3.0   \n",
       "3       111078        1 2005-11-04 20:55:42+00:00     4.5   \n",
       "4       123808        1 1997-05-30 13:24:03+00:00     4.0   \n",
       "...        ...      ...                       ...     ...   \n",
       "499995   94770   208679 2019-11-09 23:22:01+00:00     4.0   \n",
       "499996   29065   208793 2019-11-14 17:44:06+00:00     3.5   \n",
       "499997  115835   208806 2019-11-13 18:06:45+00:00     4.0   \n",
       "499998   96399   209063 2019-11-17 20:05:28+00:00     4.0   \n",
       "499999  145795   209137 2019-11-20 04:49:30+00:00     0.5   \n",
       "\n",
       "                                              title  \\\n",
       "0                                              None   \n",
       "1                                  Toy Story (1995)   \n",
       "2                                              None   \n",
       "3                                  Toy Story (1995)   \n",
       "4                                              None   \n",
       "...                                             ...   \n",
       "499995                              Deer Boy (2017)   \n",
       "499996                              Watchman (2019)   \n",
       "499997                 First Man on the Moon (2012)   \n",
       "499998                 The Prep School Negro (2012)   \n",
       "499999  The Reward's Yours... The Man's Mine (1969)   \n",
       "\n",
       "                                             genres  \n",
       "0                                              None  \n",
       "1       Adventure|Animation|Children|Comedy|Fantasy  \n",
       "2                                              None  \n",
       "3       Adventure|Animation|Children|Comedy|Fantasy  \n",
       "4                                              None  \n",
       "...                                             ...  \n",
       "499995                                Drama|Fantasy  \n",
       "499996                               Drama|Thriller  \n",
       "499997                                  Documentary  \n",
       "499998                           (no genres listed)  \n",
       "499999                                      Western  \n",
       "\n",
       "[500000 rows x 6 columns]"
      ]
     },
     "execution_count": 4,
     "metadata": {},
     "output_type": "execute_result"
    }
   ],
   "source": [
    "df"
   ]
  },
  {
   "cell_type": "markdown",
   "id": "c86974ac-20b9-488f-9670-fd23d731f361",
   "metadata": {},
   "source": [
    "## Online database"
   ]
  },
  {
   "cell_type": "markdown",
   "id": "86b2ec4d-8a59-4a3c-a76a-579dff8ed547",
   "metadata": {},
   "source": [
    "### Materialize"
   ]
  },
  {
   "cell_type": "code",
   "execution_count": 7,
   "id": "6335c25a-5167-42bd-b988-0d76f56708df",
   "metadata": {
    "scrolled": true
   },
   "outputs": [
    {
     "name": "stdout",
     "output_type": "stream",
     "text": [
      "--- Starting Feature Materialization in 1-Year Chunks ---\n",
      "Overall Data Range: 2003-01-05 to 2025-09-27\n",
      "\n",
      "Materializing chunk: 2003-01-05 to 2003-04-15\n",
      "Materializing \u001b[1m\u001b[32m2\u001b[0m feature views from \u001b[1m\u001b[32m2003-01-05 00:00:00+00:00\u001b[0m to \u001b[1m\u001b[32m2003-04-15 00:00:00+00:00\u001b[0m into the \u001b[1m\u001b[32mredis\u001b[0m online store.\n",
      "\n",
      "\u001b[1m\u001b[32muser_rating_feature_view\u001b[0m:\n"
     ]
    },
    {
     "name": "stderr",
     "output_type": "stream",
     "text": [
      "E0000 00:00:1758935396.005691    3497 alts_credentials.cc:93] ALTS creds ignored. Not running on GCP and untrusted ALTS is not enabled.\n"
     ]
    },
    {
     "name": "stdout",
     "output_type": "stream",
     "text": [
      "\u001b[1m\u001b[32mmovie_details_feature_view\u001b[0m:\n"
     ]
    },
    {
     "name": "stderr",
     "output_type": "stream",
     "text": [
      "E0000 00:00:1758935424.019491    3497 alts_credentials.cc:93] ALTS creds ignored. Not running on GCP and untrusted ALTS is not enabled.\n"
     ]
    },
    {
     "name": "stdout",
     "output_type": "stream",
     "text": [
      "SUCCESS: Chunk 2003-01-05 completed.\n",
      "\n",
      "Materializing chunk: 2003-04-15 to 2003-07-24\n",
      "Materializing \u001b[1m\u001b[32m2\u001b[0m feature views from \u001b[1m\u001b[32m2003-04-15 00:00:00+00:00\u001b[0m to \u001b[1m\u001b[32m2003-07-24 00:00:00+00:00\u001b[0m into the \u001b[1m\u001b[32mredis\u001b[0m online store.\n",
      "\n",
      "\u001b[1m\u001b[32muser_rating_feature_view\u001b[0m:\n"
     ]
    },
    {
     "name": "stderr",
     "output_type": "stream",
     "text": [
      "E0000 00:00:1758935428.666762    3497 alts_credentials.cc:93] ALTS creds ignored. Not running on GCP and untrusted ALTS is not enabled.\n"
     ]
    },
    {
     "name": "stdout",
     "output_type": "stream",
     "text": [
      "\u001b[1m\u001b[32mmovie_details_feature_view\u001b[0m:\n"
     ]
    },
    {
     "name": "stderr",
     "output_type": "stream",
     "text": [
      "E0000 00:00:1758935451.647091    3497 alts_credentials.cc:93] ALTS creds ignored. Not running on GCP and untrusted ALTS is not enabled.\n"
     ]
    },
    {
     "name": "stdout",
     "output_type": "stream",
     "text": [
      "SUCCESS: Chunk 2003-04-15 completed.\n",
      "\n",
      "Materializing chunk: 2003-07-24 to 2003-11-01\n",
      "Materializing \u001b[1m\u001b[32m2\u001b[0m feature views from \u001b[1m\u001b[32m2003-07-24 00:00:00+00:00\u001b[0m to \u001b[1m\u001b[32m2003-11-01 00:00:00+00:00\u001b[0m into the \u001b[1m\u001b[32mredis\u001b[0m online store.\n",
      "\n",
      "\u001b[1m\u001b[32muser_rating_feature_view\u001b[0m:\n"
     ]
    },
    {
     "name": "stderr",
     "output_type": "stream",
     "text": [
      "E0000 00:00:1758935456.198615    3497 alts_credentials.cc:93] ALTS creds ignored. Not running on GCP and untrusted ALTS is not enabled.\n"
     ]
    },
    {
     "name": "stdout",
     "output_type": "stream",
     "text": [
      "\u001b[1m\u001b[32mmovie_details_feature_view\u001b[0m:\n"
     ]
    },
    {
     "name": "stderr",
     "output_type": "stream",
     "text": [
      "E0000 00:00:1758935478.841064    3497 alts_credentials.cc:93] ALTS creds ignored. Not running on GCP and untrusted ALTS is not enabled.\n"
     ]
    },
    {
     "name": "stdout",
     "output_type": "stream",
     "text": [
      "SUCCESS: Chunk 2003-07-24 completed.\n",
      "\n",
      "Materializing chunk: 2003-11-01 to 2004-02-09\n",
      "Materializing \u001b[1m\u001b[32m2\u001b[0m feature views from \u001b[1m\u001b[32m2003-11-01 00:00:00+00:00\u001b[0m to \u001b[1m\u001b[32m2004-02-09 00:00:00+00:00\u001b[0m into the \u001b[1m\u001b[32mredis\u001b[0m online store.\n",
      "\n",
      "\u001b[1m\u001b[32muser_rating_feature_view\u001b[0m:\n"
     ]
    },
    {
     "name": "stderr",
     "output_type": "stream",
     "text": [
      "E0000 00:00:1758935485.943145    3497 alts_credentials.cc:93] ALTS creds ignored. Not running on GCP and untrusted ALTS is not enabled.\n"
     ]
    },
    {
     "name": "stdout",
     "output_type": "stream",
     "text": [
      "\u001b[1m\u001b[32mmovie_details_feature_view\u001b[0m:\n"
     ]
    },
    {
     "name": "stderr",
     "output_type": "stream",
     "text": [
      "E0000 00:00:1758935508.768708    3497 alts_credentials.cc:93] ALTS creds ignored. Not running on GCP and untrusted ALTS is not enabled.\n"
     ]
    },
    {
     "name": "stdout",
     "output_type": "stream",
     "text": [
      "SUCCESS: Chunk 2003-11-01 completed.\n",
      "\n",
      "Materializing chunk: 2004-02-09 to 2004-05-19\n",
      "Materializing \u001b[1m\u001b[32m2\u001b[0m feature views from \u001b[1m\u001b[32m2004-02-09 00:00:00+00:00\u001b[0m to \u001b[1m\u001b[32m2004-05-19 00:00:00+00:00\u001b[0m into the \u001b[1m\u001b[32mredis\u001b[0m online store.\n",
      "\n",
      "\u001b[1m\u001b[32muser_rating_feature_view\u001b[0m:\n"
     ]
    },
    {
     "name": "stderr",
     "output_type": "stream",
     "text": [
      "E0000 00:00:1758935514.398427    3497 alts_credentials.cc:93] ALTS creds ignored. Not running on GCP and untrusted ALTS is not enabled.\n"
     ]
    },
    {
     "name": "stdout",
     "output_type": "stream",
     "text": [
      "\u001b[1m\u001b[32mmovie_details_feature_view\u001b[0m:\n"
     ]
    },
    {
     "name": "stderr",
     "output_type": "stream",
     "text": [
      "E0000 00:00:1758935541.885402    3497 alts_credentials.cc:93] ALTS creds ignored. Not running on GCP and untrusted ALTS is not enabled.\n"
     ]
    },
    {
     "name": "stdout",
     "output_type": "stream",
     "text": [
      "SUCCESS: Chunk 2004-02-09 completed.\n",
      "\n",
      "Materializing chunk: 2004-05-19 to 2004-08-27\n",
      "Materializing \u001b[1m\u001b[32m2\u001b[0m feature views from \u001b[1m\u001b[32m2004-05-19 00:00:00+00:00\u001b[0m to \u001b[1m\u001b[32m2004-08-27 00:00:00+00:00\u001b[0m into the \u001b[1m\u001b[32mredis\u001b[0m online store.\n",
      "\n",
      "\u001b[1m\u001b[32muser_rating_feature_view\u001b[0m:\n"
     ]
    },
    {
     "name": "stderr",
     "output_type": "stream",
     "text": [
      "E0000 00:00:1758935546.298601    3497 alts_credentials.cc:93] ALTS creds ignored. Not running on GCP and untrusted ALTS is not enabled.\n"
     ]
    },
    {
     "name": "stdout",
     "output_type": "stream",
     "text": [
      "\u001b[1m\u001b[32mmovie_details_feature_view\u001b[0m:\n"
     ]
    },
    {
     "name": "stderr",
     "output_type": "stream",
     "text": [
      "E0000 00:00:1758935570.756158    3497 alts_credentials.cc:93] ALTS creds ignored. Not running on GCP and untrusted ALTS is not enabled.\n"
     ]
    },
    {
     "name": "stdout",
     "output_type": "stream",
     "text": [
      "SUCCESS: Chunk 2004-05-19 completed.\n",
      "\n",
      "Materializing chunk: 2004-08-27 to 2004-12-05\n",
      "Materializing \u001b[1m\u001b[32m2\u001b[0m feature views from \u001b[1m\u001b[32m2004-08-27 00:00:00+00:00\u001b[0m to \u001b[1m\u001b[32m2004-12-05 00:00:00+00:00\u001b[0m into the \u001b[1m\u001b[32mredis\u001b[0m online store.\n",
      "\n",
      "\u001b[1m\u001b[32muser_rating_feature_view\u001b[0m:\n"
     ]
    },
    {
     "name": "stderr",
     "output_type": "stream",
     "text": [
      "E0000 00:00:1758935575.312675    3497 alts_credentials.cc:93] ALTS creds ignored. Not running on GCP and untrusted ALTS is not enabled.\n"
     ]
    },
    {
     "name": "stdout",
     "output_type": "stream",
     "text": [
      "\u001b[1m\u001b[32mmovie_details_feature_view\u001b[0m:\n"
     ]
    },
    {
     "name": "stderr",
     "output_type": "stream",
     "text": [
      "E0000 00:00:1758935597.428249    3497 alts_credentials.cc:93] ALTS creds ignored. Not running on GCP and untrusted ALTS is not enabled.\n"
     ]
    },
    {
     "name": "stdout",
     "output_type": "stream",
     "text": [
      "SUCCESS: Chunk 2004-08-27 completed.\n",
      "\n",
      "Materializing chunk: 2004-12-05 to 2005-03-15\n",
      "Materializing \u001b[1m\u001b[32m2\u001b[0m feature views from \u001b[1m\u001b[32m2004-12-05 00:00:00+00:00\u001b[0m to \u001b[1m\u001b[32m2005-03-15 00:00:00+00:00\u001b[0m into the \u001b[1m\u001b[32mredis\u001b[0m online store.\n",
      "\n",
      "\u001b[1m\u001b[32muser_rating_feature_view\u001b[0m:\n"
     ]
    },
    {
     "name": "stderr",
     "output_type": "stream",
     "text": [
      "E0000 00:00:1758935602.239174    3497 alts_credentials.cc:93] ALTS creds ignored. Not running on GCP and untrusted ALTS is not enabled.\n"
     ]
    },
    {
     "name": "stdout",
     "output_type": "stream",
     "text": [
      "\u001b[1m\u001b[32mmovie_details_feature_view\u001b[0m:\n"
     ]
    },
    {
     "name": "stderr",
     "output_type": "stream",
     "text": [
      "E0000 00:00:1758935632.180056    3497 alts_credentials.cc:93] ALTS creds ignored. Not running on GCP and untrusted ALTS is not enabled.\n"
     ]
    },
    {
     "name": "stdout",
     "output_type": "stream",
     "text": [
      "SUCCESS: Chunk 2004-12-05 completed.\n",
      "\n",
      "Materializing chunk: 2005-03-15 to 2005-06-23\n",
      "Materializing \u001b[1m\u001b[32m2\u001b[0m feature views from \u001b[1m\u001b[32m2005-03-15 00:00:00+00:00\u001b[0m to \u001b[1m\u001b[32m2005-06-23 00:00:00+00:00\u001b[0m into the \u001b[1m\u001b[32mredis\u001b[0m online store.\n",
      "\n",
      "\u001b[1m\u001b[32muser_rating_feature_view\u001b[0m:\n"
     ]
    },
    {
     "name": "stderr",
     "output_type": "stream",
     "text": [
      "E0000 00:00:1758935638.040982    3497 alts_credentials.cc:93] ALTS creds ignored. Not running on GCP and untrusted ALTS is not enabled.\n"
     ]
    },
    {
     "name": "stdout",
     "output_type": "stream",
     "text": [
      "\u001b[1m\u001b[32mmovie_details_feature_view\u001b[0m:\n"
     ]
    },
    {
     "name": "stderr",
     "output_type": "stream",
     "text": [
      "E0000 00:00:1758935693.288192    3497 alts_credentials.cc:93] ALTS creds ignored. Not running on GCP and untrusted ALTS is not enabled.\n"
     ]
    },
    {
     "name": "stdout",
     "output_type": "stream",
     "text": [
      "SUCCESS: Chunk 2005-03-15 completed.\n",
      "\n",
      "Materializing chunk: 2005-06-23 to 2005-10-01\n",
      "Materializing \u001b[1m\u001b[32m2\u001b[0m feature views from \u001b[1m\u001b[32m2005-06-23 00:00:00+00:00\u001b[0m to \u001b[1m\u001b[32m2005-10-01 00:00:00+00:00\u001b[0m into the \u001b[1m\u001b[32mredis\u001b[0m online store.\n",
      "\n",
      "\u001b[1m\u001b[32muser_rating_feature_view\u001b[0m:\n"
     ]
    },
    {
     "name": "stderr",
     "output_type": "stream",
     "text": [
      "E0000 00:00:1758935699.056461    3497 alts_credentials.cc:93] ALTS creds ignored. Not running on GCP and untrusted ALTS is not enabled.\n"
     ]
    },
    {
     "name": "stdout",
     "output_type": "stream",
     "text": [
      "\u001b[1m\u001b[32mmovie_details_feature_view\u001b[0m:\n"
     ]
    },
    {
     "name": "stderr",
     "output_type": "stream",
     "text": [
      "E0000 00:00:1758935730.093502    3497 alts_credentials.cc:93] ALTS creds ignored. Not running on GCP and untrusted ALTS is not enabled.\n"
     ]
    },
    {
     "name": "stdout",
     "output_type": "stream",
     "text": [
      "SUCCESS: Chunk 2005-06-23 completed.\n",
      "\n",
      "Materializing chunk: 2005-10-01 to 2006-01-09\n",
      "Materializing \u001b[1m\u001b[32m2\u001b[0m feature views from \u001b[1m\u001b[32m2005-10-01 00:00:00+00:00\u001b[0m to \u001b[1m\u001b[32m2006-01-09 00:00:00+00:00\u001b[0m into the \u001b[1m\u001b[32mredis\u001b[0m online store.\n",
      "\n",
      "\u001b[1m\u001b[32muser_rating_feature_view\u001b[0m:\n"
     ]
    },
    {
     "name": "stderr",
     "output_type": "stream",
     "text": [
      "E0000 00:00:1758935734.741841    3497 alts_credentials.cc:93] ALTS creds ignored. Not running on GCP and untrusted ALTS is not enabled.\n"
     ]
    },
    {
     "name": "stdout",
     "output_type": "stream",
     "text": [
      "\u001b[1m\u001b[32mmovie_details_feature_view\u001b[0m:\n"
     ]
    },
    {
     "name": "stderr",
     "output_type": "stream",
     "text": [
      "E0000 00:00:1758935762.537760    3497 alts_credentials.cc:93] ALTS creds ignored. Not running on GCP and untrusted ALTS is not enabled.\n"
     ]
    },
    {
     "name": "stdout",
     "output_type": "stream",
     "text": [
      "SUCCESS: Chunk 2005-10-01 completed.\n",
      "\n",
      "Materializing chunk: 2006-01-09 to 2006-04-19\n",
      "Materializing \u001b[1m\u001b[32m2\u001b[0m feature views from \u001b[1m\u001b[32m2006-01-09 00:00:00+00:00\u001b[0m to \u001b[1m\u001b[32m2006-04-19 00:00:00+00:00\u001b[0m into the \u001b[1m\u001b[32mredis\u001b[0m online store.\n",
      "\n",
      "\u001b[1m\u001b[32muser_rating_feature_view\u001b[0m:\n"
     ]
    },
    {
     "name": "stderr",
     "output_type": "stream",
     "text": [
      "E0000 00:00:1758935768.277152    3497 alts_credentials.cc:93] ALTS creds ignored. Not running on GCP and untrusted ALTS is not enabled.\n"
     ]
    },
    {
     "name": "stdout",
     "output_type": "stream",
     "text": [
      "\u001b[1m\u001b[32mmovie_details_feature_view\u001b[0m:\n"
     ]
    },
    {
     "name": "stderr",
     "output_type": "stream",
     "text": [
      "E0000 00:00:1758935795.838923    3497 alts_credentials.cc:93] ALTS creds ignored. Not running on GCP and untrusted ALTS is not enabled.\n"
     ]
    },
    {
     "name": "stdout",
     "output_type": "stream",
     "text": [
      "SUCCESS: Chunk 2006-01-09 completed.\n",
      "\n",
      "Materializing chunk: 2006-04-19 to 2006-07-28\n",
      "Materializing \u001b[1m\u001b[32m2\u001b[0m feature views from \u001b[1m\u001b[32m2006-04-19 00:00:00+00:00\u001b[0m to \u001b[1m\u001b[32m2006-07-28 00:00:00+00:00\u001b[0m into the \u001b[1m\u001b[32mredis\u001b[0m online store.\n",
      "\n",
      "\u001b[1m\u001b[32muser_rating_feature_view\u001b[0m:\n"
     ]
    },
    {
     "name": "stderr",
     "output_type": "stream",
     "text": [
      "E0000 00:00:1758935801.492092    3497 alts_credentials.cc:93] ALTS creds ignored. Not running on GCP and untrusted ALTS is not enabled.\n"
     ]
    },
    {
     "name": "stdout",
     "output_type": "stream",
     "text": [
      "\u001b[1m\u001b[32mmovie_details_feature_view\u001b[0m:\n"
     ]
    },
    {
     "name": "stderr",
     "output_type": "stream",
     "text": [
      "E0000 00:00:1758935828.898513    3497 alts_credentials.cc:93] ALTS creds ignored. Not running on GCP and untrusted ALTS is not enabled.\n"
     ]
    },
    {
     "name": "stdout",
     "output_type": "stream",
     "text": [
      "SUCCESS: Chunk 2006-04-19 completed.\n",
      "\n",
      "Materializing chunk: 2006-07-28 to 2006-11-05\n",
      "Materializing \u001b[1m\u001b[32m2\u001b[0m feature views from \u001b[1m\u001b[32m2006-07-28 00:00:00+00:00\u001b[0m to \u001b[1m\u001b[32m2006-11-05 00:00:00+00:00\u001b[0m into the \u001b[1m\u001b[32mredis\u001b[0m online store.\n",
      "\n",
      "\u001b[1m\u001b[32muser_rating_feature_view\u001b[0m:\n"
     ]
    },
    {
     "name": "stderr",
     "output_type": "stream",
     "text": [
      "E0000 00:00:1758935833.584486    3497 alts_credentials.cc:93] ALTS creds ignored. Not running on GCP and untrusted ALTS is not enabled.\n"
     ]
    },
    {
     "name": "stdout",
     "output_type": "stream",
     "text": [
      "\u001b[1m\u001b[32mmovie_details_feature_view\u001b[0m:\n"
     ]
    },
    {
     "name": "stderr",
     "output_type": "stream",
     "text": [
      "E0000 00:00:1758935854.932280    3497 alts_credentials.cc:93] ALTS creds ignored. Not running on GCP and untrusted ALTS is not enabled.\n"
     ]
    },
    {
     "name": "stdout",
     "output_type": "stream",
     "text": [
      "SUCCESS: Chunk 2006-07-28 completed.\n",
      "\n",
      "Materializing chunk: 2006-11-05 to 2007-02-13\n",
      "Materializing \u001b[1m\u001b[32m2\u001b[0m feature views from \u001b[1m\u001b[32m2006-11-05 00:00:00+00:00\u001b[0m to \u001b[1m\u001b[32m2007-02-13 00:00:00+00:00\u001b[0m into the \u001b[1m\u001b[32mredis\u001b[0m online store.\n",
      "\n",
      "\u001b[1m\u001b[32muser_rating_feature_view\u001b[0m:\n"
     ]
    },
    {
     "name": "stderr",
     "output_type": "stream",
     "text": [
      "E0000 00:00:1758935860.504935    3497 alts_credentials.cc:93] ALTS creds ignored. Not running on GCP and untrusted ALTS is not enabled.\n"
     ]
    },
    {
     "name": "stdout",
     "output_type": "stream",
     "text": [
      "\u001b[1m\u001b[32mmovie_details_feature_view\u001b[0m:\n"
     ]
    },
    {
     "name": "stderr",
     "output_type": "stream",
     "text": [
      "E0000 00:00:1758935887.447705    3497 alts_credentials.cc:93] ALTS creds ignored. Not running on GCP and untrusted ALTS is not enabled.\n"
     ]
    },
    {
     "name": "stdout",
     "output_type": "stream",
     "text": [
      "SUCCESS: Chunk 2006-11-05 completed.\n",
      "\n",
      "Materializing chunk: 2007-02-13 to 2007-05-24\n",
      "Materializing \u001b[1m\u001b[32m2\u001b[0m feature views from \u001b[1m\u001b[32m2007-02-13 00:00:00+00:00\u001b[0m to \u001b[1m\u001b[32m2007-05-24 00:00:00+00:00\u001b[0m into the \u001b[1m\u001b[32mredis\u001b[0m online store.\n",
      "\n",
      "\u001b[1m\u001b[32muser_rating_feature_view\u001b[0m:\n"
     ]
    },
    {
     "name": "stderr",
     "output_type": "stream",
     "text": [
      "E0000 00:00:1758935893.357610    3497 alts_credentials.cc:93] ALTS creds ignored. Not running on GCP and untrusted ALTS is not enabled.\n"
     ]
    },
    {
     "name": "stdout",
     "output_type": "stream",
     "text": [
      "\u001b[1m\u001b[32mmovie_details_feature_view\u001b[0m:\n"
     ]
    },
    {
     "name": "stderr",
     "output_type": "stream",
     "text": [
      "E0000 00:00:1758935916.867377    3497 alts_credentials.cc:93] ALTS creds ignored. Not running on GCP and untrusted ALTS is not enabled.\n"
     ]
    },
    {
     "name": "stdout",
     "output_type": "stream",
     "text": [
      "SUCCESS: Chunk 2007-02-13 completed.\n",
      "\n",
      "Materializing chunk: 2007-05-24 to 2007-09-01\n",
      "Materializing \u001b[1m\u001b[32m2\u001b[0m feature views from \u001b[1m\u001b[32m2007-05-24 00:00:00+00:00\u001b[0m to \u001b[1m\u001b[32m2007-09-01 00:00:00+00:00\u001b[0m into the \u001b[1m\u001b[32mredis\u001b[0m online store.\n",
      "\n",
      "\u001b[1m\u001b[32muser_rating_feature_view\u001b[0m:\n"
     ]
    },
    {
     "name": "stderr",
     "output_type": "stream",
     "text": [
      "E0000 00:00:1758935922.710384    3497 alts_credentials.cc:93] ALTS creds ignored. Not running on GCP and untrusted ALTS is not enabled.\n"
     ]
    },
    {
     "name": "stdout",
     "output_type": "stream",
     "text": [
      "\u001b[1m\u001b[32mmovie_details_feature_view\u001b[0m:\n"
     ]
    },
    {
     "name": "stderr",
     "output_type": "stream",
     "text": [
      "E0000 00:00:1758935941.635442    3497 alts_credentials.cc:93] ALTS creds ignored. Not running on GCP and untrusted ALTS is not enabled.\n"
     ]
    },
    {
     "name": "stdout",
     "output_type": "stream",
     "text": [
      "SUCCESS: Chunk 2007-05-24 completed.\n",
      "\n",
      "Materializing chunk: 2007-09-01 to 2007-12-10\n",
      "Materializing \u001b[1m\u001b[32m2\u001b[0m feature views from \u001b[1m\u001b[32m2007-09-01 00:00:00+00:00\u001b[0m to \u001b[1m\u001b[32m2007-12-10 00:00:00+00:00\u001b[0m into the \u001b[1m\u001b[32mredis\u001b[0m online store.\n",
      "\n",
      "\u001b[1m\u001b[32muser_rating_feature_view\u001b[0m:\n"
     ]
    },
    {
     "name": "stderr",
     "output_type": "stream",
     "text": [
      "E0000 00:00:1758935946.422977    3497 alts_credentials.cc:93] ALTS creds ignored. Not running on GCP and untrusted ALTS is not enabled.\n"
     ]
    },
    {
     "name": "stdout",
     "output_type": "stream",
     "text": [
      "\u001b[1m\u001b[32mmovie_details_feature_view\u001b[0m:\n"
     ]
    },
    {
     "name": "stderr",
     "output_type": "stream",
     "text": [
      "E0000 00:00:1758935970.271861    3497 alts_credentials.cc:93] ALTS creds ignored. Not running on GCP and untrusted ALTS is not enabled.\n"
     ]
    },
    {
     "name": "stdout",
     "output_type": "stream",
     "text": [
      "SUCCESS: Chunk 2007-09-01 completed.\n",
      "\n",
      "Materializing chunk: 2007-12-10 to 2008-03-19\n",
      "Materializing \u001b[1m\u001b[32m2\u001b[0m feature views from \u001b[1m\u001b[32m2007-12-10 00:00:00+00:00\u001b[0m to \u001b[1m\u001b[32m2008-03-19 00:00:00+00:00\u001b[0m into the \u001b[1m\u001b[32mredis\u001b[0m online store.\n",
      "\n",
      "\u001b[1m\u001b[32muser_rating_feature_view\u001b[0m:\n"
     ]
    },
    {
     "name": "stderr",
     "output_type": "stream",
     "text": [
      "E0000 00:00:1758935976.287616    3497 alts_credentials.cc:93] ALTS creds ignored. Not running on GCP and untrusted ALTS is not enabled.\n"
     ]
    },
    {
     "name": "stdout",
     "output_type": "stream",
     "text": [
      "\u001b[1m\u001b[32mmovie_details_feature_view\u001b[0m:\n"
     ]
    },
    {
     "name": "stderr",
     "output_type": "stream",
     "text": [
      "E0000 00:00:1758935997.271213    3497 alts_credentials.cc:93] ALTS creds ignored. Not running on GCP and untrusted ALTS is not enabled.\n"
     ]
    },
    {
     "name": "stdout",
     "output_type": "stream",
     "text": [
      "SUCCESS: Chunk 2007-12-10 completed.\n",
      "\n",
      "Materializing chunk: 2008-03-19 to 2008-06-27\n",
      "Materializing \u001b[1m\u001b[32m2\u001b[0m feature views from \u001b[1m\u001b[32m2008-03-19 00:00:00+00:00\u001b[0m to \u001b[1m\u001b[32m2008-06-27 00:00:00+00:00\u001b[0m into the \u001b[1m\u001b[32mredis\u001b[0m online store.\n",
      "\n",
      "\u001b[1m\u001b[32muser_rating_feature_view\u001b[0m:\n"
     ]
    },
    {
     "name": "stderr",
     "output_type": "stream",
     "text": [
      "E0000 00:00:1758936002.518449    3497 alts_credentials.cc:93] ALTS creds ignored. Not running on GCP and untrusted ALTS is not enabled.\n"
     ]
    },
    {
     "name": "stdout",
     "output_type": "stream",
     "text": [
      "\u001b[1m\u001b[32mmovie_details_feature_view\u001b[0m:\n"
     ]
    },
    {
     "name": "stderr",
     "output_type": "stream",
     "text": [
      "E0000 00:00:1758936022.805588    3497 alts_credentials.cc:93] ALTS creds ignored. Not running on GCP and untrusted ALTS is not enabled.\n"
     ]
    },
    {
     "name": "stdout",
     "output_type": "stream",
     "text": [
      "SUCCESS: Chunk 2008-03-19 completed.\n",
      "\n",
      "Materializing chunk: 2008-06-27 to 2008-10-05\n",
      "Materializing \u001b[1m\u001b[32m2\u001b[0m feature views from \u001b[1m\u001b[32m2008-06-27 00:00:00+00:00\u001b[0m to \u001b[1m\u001b[32m2008-10-05 00:00:00+00:00\u001b[0m into the \u001b[1m\u001b[32mredis\u001b[0m online store.\n",
      "\n",
      "\u001b[1m\u001b[32muser_rating_feature_view\u001b[0m:\n"
     ]
    },
    {
     "name": "stderr",
     "output_type": "stream",
     "text": [
      "E0000 00:00:1758936028.693121    3497 alts_credentials.cc:93] ALTS creds ignored. Not running on GCP and untrusted ALTS is not enabled.\n"
     ]
    },
    {
     "name": "stdout",
     "output_type": "stream",
     "text": [
      "\u001b[1m\u001b[32mmovie_details_feature_view\u001b[0m:\n"
     ]
    },
    {
     "name": "stderr",
     "output_type": "stream",
     "text": [
      "E0000 00:00:1758936052.200953    3497 alts_credentials.cc:93] ALTS creds ignored. Not running on GCP and untrusted ALTS is not enabled.\n"
     ]
    },
    {
     "name": "stdout",
     "output_type": "stream",
     "text": [
      "SUCCESS: Chunk 2008-06-27 completed.\n",
      "\n",
      "Materializing chunk: 2008-10-05 to 2009-01-13\n",
      "Materializing \u001b[1m\u001b[32m2\u001b[0m feature views from \u001b[1m\u001b[32m2008-10-05 00:00:00+00:00\u001b[0m to \u001b[1m\u001b[32m2009-01-13 00:00:00+00:00\u001b[0m into the \u001b[1m\u001b[32mredis\u001b[0m online store.\n",
      "\n",
      "\u001b[1m\u001b[32muser_rating_feature_view\u001b[0m:\n"
     ]
    },
    {
     "name": "stderr",
     "output_type": "stream",
     "text": [
      "E0000 00:00:1758936058.010156    3497 alts_credentials.cc:93] ALTS creds ignored. Not running on GCP and untrusted ALTS is not enabled.\n"
     ]
    },
    {
     "name": "stdout",
     "output_type": "stream",
     "text": [
      "\u001b[1m\u001b[32mmovie_details_feature_view\u001b[0m:\n"
     ]
    },
    {
     "name": "stderr",
     "output_type": "stream",
     "text": [
      "E0000 00:00:1758936093.501487    3497 alts_credentials.cc:93] ALTS creds ignored. Not running on GCP and untrusted ALTS is not enabled.\n"
     ]
    },
    {
     "name": "stdout",
     "output_type": "stream",
     "text": [
      "SUCCESS: Chunk 2008-10-05 completed.\n",
      "\n",
      "Materializing chunk: 2009-01-13 to 2009-04-23\n",
      "Materializing \u001b[1m\u001b[32m2\u001b[0m feature views from \u001b[1m\u001b[32m2009-01-13 00:00:00+00:00\u001b[0m to \u001b[1m\u001b[32m2009-04-23 00:00:00+00:00\u001b[0m into the \u001b[1m\u001b[32mredis\u001b[0m online store.\n",
      "\n",
      "\u001b[1m\u001b[32muser_rating_feature_view\u001b[0m:\n"
     ]
    },
    {
     "name": "stderr",
     "output_type": "stream",
     "text": [
      "E0000 00:00:1758936099.275711    3497 alts_credentials.cc:93] ALTS creds ignored. Not running on GCP and untrusted ALTS is not enabled.\n"
     ]
    },
    {
     "name": "stdout",
     "output_type": "stream",
     "text": [
      "\u001b[1m\u001b[32mmovie_details_feature_view\u001b[0m:\n"
     ]
    },
    {
     "name": "stderr",
     "output_type": "stream",
     "text": [
      "E0000 00:00:1758936124.804588    3497 alts_credentials.cc:93] ALTS creds ignored. Not running on GCP and untrusted ALTS is not enabled.\n"
     ]
    },
    {
     "name": "stdout",
     "output_type": "stream",
     "text": [
      "SUCCESS: Chunk 2009-01-13 completed.\n",
      "\n",
      "Materializing chunk: 2009-04-23 to 2009-08-01\n",
      "Materializing \u001b[1m\u001b[32m2\u001b[0m feature views from \u001b[1m\u001b[32m2009-04-23 00:00:00+00:00\u001b[0m to \u001b[1m\u001b[32m2009-08-01 00:00:00+00:00\u001b[0m into the \u001b[1m\u001b[32mredis\u001b[0m online store.\n",
      "\n",
      "\u001b[1m\u001b[32muser_rating_feature_view\u001b[0m:\n"
     ]
    },
    {
     "name": "stderr",
     "output_type": "stream",
     "text": [
      "E0000 00:00:1758936129.588071    3497 alts_credentials.cc:93] ALTS creds ignored. Not running on GCP and untrusted ALTS is not enabled.\n"
     ]
    },
    {
     "name": "stdout",
     "output_type": "stream",
     "text": [
      "\u001b[1m\u001b[32mmovie_details_feature_view\u001b[0m:\n"
     ]
    },
    {
     "name": "stderr",
     "output_type": "stream",
     "text": [
      "E0000 00:00:1758936149.854963    3497 alts_credentials.cc:93] ALTS creds ignored. Not running on GCP and untrusted ALTS is not enabled.\n"
     ]
    },
    {
     "name": "stdout",
     "output_type": "stream",
     "text": [
      "SUCCESS: Chunk 2009-04-23 completed.\n",
      "\n",
      "Materializing chunk: 2009-08-01 to 2009-11-09\n",
      "Materializing \u001b[1m\u001b[32m2\u001b[0m feature views from \u001b[1m\u001b[32m2009-08-01 00:00:00+00:00\u001b[0m to \u001b[1m\u001b[32m2009-11-09 00:00:00+00:00\u001b[0m into the \u001b[1m\u001b[32mredis\u001b[0m online store.\n",
      "\n",
      "\u001b[1m\u001b[32muser_rating_feature_view\u001b[0m:\n"
     ]
    },
    {
     "name": "stderr",
     "output_type": "stream",
     "text": [
      "E0000 00:00:1758936154.369627    3497 alts_credentials.cc:93] ALTS creds ignored. Not running on GCP and untrusted ALTS is not enabled.\n"
     ]
    },
    {
     "name": "stdout",
     "output_type": "stream",
     "text": [
      "\u001b[1m\u001b[32mmovie_details_feature_view\u001b[0m:\n"
     ]
    },
    {
     "name": "stderr",
     "output_type": "stream",
     "text": [
      "E0000 00:00:1758936174.749928    3497 alts_credentials.cc:93] ALTS creds ignored. Not running on GCP and untrusted ALTS is not enabled.\n"
     ]
    },
    {
     "name": "stdout",
     "output_type": "stream",
     "text": [
      "SUCCESS: Chunk 2009-08-01 completed.\n",
      "\n",
      "Materializing chunk: 2009-11-09 to 2010-02-17\n",
      "Materializing \u001b[1m\u001b[32m2\u001b[0m feature views from \u001b[1m\u001b[32m2009-11-09 00:00:00+00:00\u001b[0m to \u001b[1m\u001b[32m2010-02-17 00:00:00+00:00\u001b[0m into the \u001b[1m\u001b[32mredis\u001b[0m online store.\n",
      "\n",
      "\u001b[1m\u001b[32muser_rating_feature_view\u001b[0m:\n"
     ]
    },
    {
     "name": "stderr",
     "output_type": "stream",
     "text": [
      "E0000 00:00:1758936179.175190    3497 alts_credentials.cc:93] ALTS creds ignored. Not running on GCP and untrusted ALTS is not enabled.\n"
     ]
    },
    {
     "name": "stdout",
     "output_type": "stream",
     "text": [
      "\u001b[1m\u001b[32mmovie_details_feature_view\u001b[0m:\n"
     ]
    },
    {
     "name": "stderr",
     "output_type": "stream",
     "text": [
      "E0000 00:00:1758936198.953421    3497 alts_credentials.cc:93] ALTS creds ignored. Not running on GCP and untrusted ALTS is not enabled.\n"
     ]
    },
    {
     "name": "stdout",
     "output_type": "stream",
     "text": [
      "SUCCESS: Chunk 2009-11-09 completed.\n",
      "\n",
      "Materializing chunk: 2010-02-17 to 2010-05-28\n",
      "Materializing \u001b[1m\u001b[32m2\u001b[0m feature views from \u001b[1m\u001b[32m2010-02-17 00:00:00+00:00\u001b[0m to \u001b[1m\u001b[32m2010-05-28 00:00:00+00:00\u001b[0m into the \u001b[1m\u001b[32mredis\u001b[0m online store.\n",
      "\n",
      "\u001b[1m\u001b[32muser_rating_feature_view\u001b[0m:\n"
     ]
    },
    {
     "name": "stderr",
     "output_type": "stream",
     "text": [
      "E0000 00:00:1758936203.593831    3497 alts_credentials.cc:93] ALTS creds ignored. Not running on GCP and untrusted ALTS is not enabled.\n"
     ]
    },
    {
     "name": "stdout",
     "output_type": "stream",
     "text": [
      "\u001b[1m\u001b[32mmovie_details_feature_view\u001b[0m:\n"
     ]
    },
    {
     "name": "stderr",
     "output_type": "stream",
     "text": [
      "E0000 00:00:1758936222.411643    3497 alts_credentials.cc:93] ALTS creds ignored. Not running on GCP and untrusted ALTS is not enabled.\n"
     ]
    },
    {
     "name": "stdout",
     "output_type": "stream",
     "text": [
      "SUCCESS: Chunk 2010-02-17 completed.\n",
      "\n",
      "Materializing chunk: 2010-05-28 to 2010-09-05\n",
      "Materializing \u001b[1m\u001b[32m2\u001b[0m feature views from \u001b[1m\u001b[32m2010-05-28 00:00:00+00:00\u001b[0m to \u001b[1m\u001b[32m2010-09-05 00:00:00+00:00\u001b[0m into the \u001b[1m\u001b[32mredis\u001b[0m online store.\n",
      "\n",
      "\u001b[1m\u001b[32muser_rating_feature_view\u001b[0m:\n"
     ]
    },
    {
     "name": "stderr",
     "output_type": "stream",
     "text": [
      "E0000 00:00:1758936227.056623    3497 alts_credentials.cc:93] ALTS creds ignored. Not running on GCP and untrusted ALTS is not enabled.\n"
     ]
    },
    {
     "name": "stdout",
     "output_type": "stream",
     "text": [
      "\u001b[1m\u001b[32mmovie_details_feature_view\u001b[0m:\n"
     ]
    },
    {
     "name": "stderr",
     "output_type": "stream",
     "text": [
      "E0000 00:00:1758936248.424153    3497 alts_credentials.cc:93] ALTS creds ignored. Not running on GCP and untrusted ALTS is not enabled.\n"
     ]
    },
    {
     "name": "stdout",
     "output_type": "stream",
     "text": [
      "SUCCESS: Chunk 2010-05-28 completed.\n",
      "\n",
      "Materializing chunk: 2010-09-05 to 2010-12-14\n",
      "Materializing \u001b[1m\u001b[32m2\u001b[0m feature views from \u001b[1m\u001b[32m2010-09-05 00:00:00+00:00\u001b[0m to \u001b[1m\u001b[32m2010-12-14 00:00:00+00:00\u001b[0m into the \u001b[1m\u001b[32mredis\u001b[0m online store.\n",
      "\n",
      "\u001b[1m\u001b[32muser_rating_feature_view\u001b[0m:\n"
     ]
    },
    {
     "name": "stderr",
     "output_type": "stream",
     "text": [
      "E0000 00:00:1758936253.105612    3497 alts_credentials.cc:93] ALTS creds ignored. Not running on GCP and untrusted ALTS is not enabled.\n"
     ]
    },
    {
     "name": "stdout",
     "output_type": "stream",
     "text": [
      "\u001b[1m\u001b[32mmovie_details_feature_view\u001b[0m:\n"
     ]
    },
    {
     "name": "stderr",
     "output_type": "stream",
     "text": [
      "E0000 00:00:1758936278.759991    3497 alts_credentials.cc:93] ALTS creds ignored. Not running on GCP and untrusted ALTS is not enabled.\n"
     ]
    },
    {
     "name": "stdout",
     "output_type": "stream",
     "text": [
      "SUCCESS: Chunk 2010-09-05 completed.\n",
      "\n",
      "Materializing chunk: 2010-12-14 to 2011-03-24\n",
      "Materializing \u001b[1m\u001b[32m2\u001b[0m feature views from \u001b[1m\u001b[32m2010-12-14 00:00:00+00:00\u001b[0m to \u001b[1m\u001b[32m2011-03-24 00:00:00+00:00\u001b[0m into the \u001b[1m\u001b[32mredis\u001b[0m online store.\n",
      "\n",
      "\u001b[1m\u001b[32muser_rating_feature_view\u001b[0m:\n"
     ]
    },
    {
     "name": "stderr",
     "output_type": "stream",
     "text": [
      "E0000 00:00:1758936284.866903    3497 alts_credentials.cc:93] ALTS creds ignored. Not running on GCP and untrusted ALTS is not enabled.\n"
     ]
    },
    {
     "name": "stdout",
     "output_type": "stream",
     "text": [
      "\u001b[1m\u001b[32mmovie_details_feature_view\u001b[0m:\n"
     ]
    },
    {
     "name": "stderr",
     "output_type": "stream",
     "text": [
      "E0000 00:00:1758936306.855601    3497 alts_credentials.cc:93] ALTS creds ignored. Not running on GCP and untrusted ALTS is not enabled.\n"
     ]
    },
    {
     "name": "stdout",
     "output_type": "stream",
     "text": [
      "SUCCESS: Chunk 2010-12-14 completed.\n",
      "\n",
      "Materializing chunk: 2011-03-24 to 2011-07-02\n",
      "Materializing \u001b[1m\u001b[32m2\u001b[0m feature views from \u001b[1m\u001b[32m2011-03-24 00:00:00+00:00\u001b[0m to \u001b[1m\u001b[32m2011-07-02 00:00:00+00:00\u001b[0m into the \u001b[1m\u001b[32mredis\u001b[0m online store.\n",
      "\n",
      "\u001b[1m\u001b[32muser_rating_feature_view\u001b[0m:\n"
     ]
    },
    {
     "name": "stderr",
     "output_type": "stream",
     "text": [
      "E0000 00:00:1758936311.858099    3497 alts_credentials.cc:93] ALTS creds ignored. Not running on GCP and untrusted ALTS is not enabled.\n"
     ]
    },
    {
     "name": "stdout",
     "output_type": "stream",
     "text": [
      "\u001b[1m\u001b[32mmovie_details_feature_view\u001b[0m:\n"
     ]
    },
    {
     "name": "stderr",
     "output_type": "stream",
     "text": [
      "E0000 00:00:1758936331.863316    3497 alts_credentials.cc:93] ALTS creds ignored. Not running on GCP and untrusted ALTS is not enabled.\n"
     ]
    },
    {
     "name": "stdout",
     "output_type": "stream",
     "text": [
      "SUCCESS: Chunk 2011-03-24 completed.\n",
      "\n",
      "Materializing chunk: 2011-07-02 to 2011-10-10\n",
      "Materializing \u001b[1m\u001b[32m2\u001b[0m feature views from \u001b[1m\u001b[32m2011-07-02 00:00:00+00:00\u001b[0m to \u001b[1m\u001b[32m2011-10-10 00:00:00+00:00\u001b[0m into the \u001b[1m\u001b[32mredis\u001b[0m online store.\n",
      "\n",
      "\u001b[1m\u001b[32muser_rating_feature_view\u001b[0m:\n"
     ]
    },
    {
     "name": "stderr",
     "output_type": "stream",
     "text": [
      "E0000 00:00:1758936336.366926    3497 alts_credentials.cc:93] ALTS creds ignored. Not running on GCP and untrusted ALTS is not enabled.\n"
     ]
    },
    {
     "name": "stdout",
     "output_type": "stream",
     "text": [
      "\u001b[1m\u001b[32mmovie_details_feature_view\u001b[0m:\n"
     ]
    },
    {
     "name": "stderr",
     "output_type": "stream",
     "text": [
      "E0000 00:00:1758936352.997223    3497 alts_credentials.cc:93] ALTS creds ignored. Not running on GCP and untrusted ALTS is not enabled.\n"
     ]
    },
    {
     "name": "stdout",
     "output_type": "stream",
     "text": [
      "SUCCESS: Chunk 2011-07-02 completed.\n",
      "\n",
      "Materializing chunk: 2011-10-10 to 2012-01-18\n",
      "Materializing \u001b[1m\u001b[32m2\u001b[0m feature views from \u001b[1m\u001b[32m2011-10-10 00:00:00+00:00\u001b[0m to \u001b[1m\u001b[32m2012-01-18 00:00:00+00:00\u001b[0m into the \u001b[1m\u001b[32mredis\u001b[0m online store.\n",
      "\n",
      "\u001b[1m\u001b[32muser_rating_feature_view\u001b[0m:\n"
     ]
    },
    {
     "name": "stderr",
     "output_type": "stream",
     "text": [
      "E0000 00:00:1758936358.682233    3497 alts_credentials.cc:93] ALTS creds ignored. Not running on GCP and untrusted ALTS is not enabled.\n"
     ]
    },
    {
     "name": "stdout",
     "output_type": "stream",
     "text": [
      "\u001b[1m\u001b[32mmovie_details_feature_view\u001b[0m:\n"
     ]
    },
    {
     "name": "stderr",
     "output_type": "stream",
     "text": [
      "E0000 00:00:1758936375.375160    3497 alts_credentials.cc:93] ALTS creds ignored. Not running on GCP and untrusted ALTS is not enabled.\n"
     ]
    },
    {
     "name": "stdout",
     "output_type": "stream",
     "text": [
      "SUCCESS: Chunk 2011-10-10 completed.\n",
      "\n",
      "Materializing chunk: 2012-01-18 to 2012-04-27\n",
      "Materializing \u001b[1m\u001b[32m2\u001b[0m feature views from \u001b[1m\u001b[32m2012-01-18 00:00:00+00:00\u001b[0m to \u001b[1m\u001b[32m2012-04-27 00:00:00+00:00\u001b[0m into the \u001b[1m\u001b[32mredis\u001b[0m online store.\n",
      "\n",
      "\u001b[1m\u001b[32muser_rating_feature_view\u001b[0m:\n"
     ]
    },
    {
     "name": "stderr",
     "output_type": "stream",
     "text": [
      "E0000 00:00:1758936379.831508    3497 alts_credentials.cc:93] ALTS creds ignored. Not running on GCP and untrusted ALTS is not enabled.\n"
     ]
    },
    {
     "name": "stdout",
     "output_type": "stream",
     "text": [
      "\u001b[1m\u001b[32mmovie_details_feature_view\u001b[0m:\n"
     ]
    },
    {
     "name": "stderr",
     "output_type": "stream",
     "text": [
      "E0000 00:00:1758936398.129906    3497 alts_credentials.cc:93] ALTS creds ignored. Not running on GCP and untrusted ALTS is not enabled.\n"
     ]
    },
    {
     "name": "stdout",
     "output_type": "stream",
     "text": [
      "SUCCESS: Chunk 2012-01-18 completed.\n",
      "\n",
      "Materializing chunk: 2012-04-27 to 2012-08-05\n",
      "Materializing \u001b[1m\u001b[32m2\u001b[0m feature views from \u001b[1m\u001b[32m2012-04-27 00:00:00+00:00\u001b[0m to \u001b[1m\u001b[32m2012-08-05 00:00:00+00:00\u001b[0m into the \u001b[1m\u001b[32mredis\u001b[0m online store.\n",
      "\n",
      "\u001b[1m\u001b[32muser_rating_feature_view\u001b[0m:\n"
     ]
    },
    {
     "name": "stderr",
     "output_type": "stream",
     "text": [
      "E0000 00:00:1758936402.621347    3497 alts_credentials.cc:93] ALTS creds ignored. Not running on GCP and untrusted ALTS is not enabled.\n"
     ]
    },
    {
     "name": "stdout",
     "output_type": "stream",
     "text": [
      "\u001b[1m\u001b[32mmovie_details_feature_view\u001b[0m:\n"
     ]
    },
    {
     "name": "stderr",
     "output_type": "stream",
     "text": [
      "E0000 00:00:1758936419.864627    3497 alts_credentials.cc:93] ALTS creds ignored. Not running on GCP and untrusted ALTS is not enabled.\n"
     ]
    },
    {
     "name": "stdout",
     "output_type": "stream",
     "text": [
      "SUCCESS: Chunk 2012-04-27 completed.\n",
      "\n",
      "Materializing chunk: 2012-08-05 to 2012-11-13\n",
      "Materializing \u001b[1m\u001b[32m2\u001b[0m feature views from \u001b[1m\u001b[32m2012-08-05 00:00:00+00:00\u001b[0m to \u001b[1m\u001b[32m2012-11-13 00:00:00+00:00\u001b[0m into the \u001b[1m\u001b[32mredis\u001b[0m online store.\n",
      "\n",
      "\u001b[1m\u001b[32muser_rating_feature_view\u001b[0m:\n"
     ]
    },
    {
     "name": "stderr",
     "output_type": "stream",
     "text": [
      "E0000 00:00:1758936424.313365    3497 alts_credentials.cc:93] ALTS creds ignored. Not running on GCP and untrusted ALTS is not enabled.\n"
     ]
    },
    {
     "name": "stdout",
     "output_type": "stream",
     "text": [
      "\u001b[1m\u001b[32mmovie_details_feature_view\u001b[0m:\n"
     ]
    },
    {
     "name": "stderr",
     "output_type": "stream",
     "text": [
      "E0000 00:00:1758936437.741971    3497 alts_credentials.cc:93] ALTS creds ignored. Not running on GCP and untrusted ALTS is not enabled.\n"
     ]
    },
    {
     "name": "stdout",
     "output_type": "stream",
     "text": [
      "SUCCESS: Chunk 2012-08-05 completed.\n",
      "\n",
      "Materializing chunk: 2012-11-13 to 2013-02-21\n",
      "Materializing \u001b[1m\u001b[32m2\u001b[0m feature views from \u001b[1m\u001b[32m2012-11-13 00:00:00+00:00\u001b[0m to \u001b[1m\u001b[32m2013-02-21 00:00:00+00:00\u001b[0m into the \u001b[1m\u001b[32mredis\u001b[0m online store.\n",
      "\n",
      "\u001b[1m\u001b[32muser_rating_feature_view\u001b[0m:\n"
     ]
    },
    {
     "name": "stderr",
     "output_type": "stream",
     "text": [
      "E0000 00:00:1758936442.271175    3497 alts_credentials.cc:93] ALTS creds ignored. Not running on GCP and untrusted ALTS is not enabled.\n"
     ]
    },
    {
     "name": "stdout",
     "output_type": "stream",
     "text": [
      "\u001b[1m\u001b[32mmovie_details_feature_view\u001b[0m:\n"
     ]
    },
    {
     "name": "stderr",
     "output_type": "stream",
     "text": [
      "E0000 00:00:1758936459.649471    3497 alts_credentials.cc:93] ALTS creds ignored. Not running on GCP and untrusted ALTS is not enabled.\n"
     ]
    },
    {
     "name": "stdout",
     "output_type": "stream",
     "text": [
      "SUCCESS: Chunk 2012-11-13 completed.\n",
      "\n",
      "Materializing chunk: 2013-02-21 to 2013-06-01\n",
      "Materializing \u001b[1m\u001b[32m2\u001b[0m feature views from \u001b[1m\u001b[32m2013-02-21 00:00:00+00:00\u001b[0m to \u001b[1m\u001b[32m2013-06-01 00:00:00+00:00\u001b[0m into the \u001b[1m\u001b[32mredis\u001b[0m online store.\n",
      "\n",
      "\u001b[1m\u001b[32muser_rating_feature_view\u001b[0m:\n"
     ]
    },
    {
     "name": "stderr",
     "output_type": "stream",
     "text": [
      "E0000 00:00:1758936464.265882    3497 alts_credentials.cc:93] ALTS creds ignored. Not running on GCP and untrusted ALTS is not enabled.\n"
     ]
    },
    {
     "name": "stdout",
     "output_type": "stream",
     "text": [
      "\u001b[1m\u001b[32mmovie_details_feature_view\u001b[0m:\n"
     ]
    },
    {
     "name": "stderr",
     "output_type": "stream",
     "text": [
      "E0000 00:00:1758936477.154744    3497 alts_credentials.cc:93] ALTS creds ignored. Not running on GCP and untrusted ALTS is not enabled.\n"
     ]
    },
    {
     "name": "stdout",
     "output_type": "stream",
     "text": [
      "SUCCESS: Chunk 2013-02-21 completed.\n",
      "\n",
      "Materializing chunk: 2013-06-01 to 2013-09-09\n",
      "Materializing \u001b[1m\u001b[32m2\u001b[0m feature views from \u001b[1m\u001b[32m2013-06-01 00:00:00+00:00\u001b[0m to \u001b[1m\u001b[32m2013-09-09 00:00:00+00:00\u001b[0m into the \u001b[1m\u001b[32mredis\u001b[0m online store.\n",
      "\n",
      "\u001b[1m\u001b[32muser_rating_feature_view\u001b[0m:\n"
     ]
    },
    {
     "name": "stderr",
     "output_type": "stream",
     "text": [
      "E0000 00:00:1758936481.283943    3497 alts_credentials.cc:93] ALTS creds ignored. Not running on GCP and untrusted ALTS is not enabled.\n"
     ]
    },
    {
     "name": "stdout",
     "output_type": "stream",
     "text": [
      "\u001b[1m\u001b[32mmovie_details_feature_view\u001b[0m:\n"
     ]
    },
    {
     "name": "stderr",
     "output_type": "stream",
     "text": [
      "E0000 00:00:1758936495.913128    3497 alts_credentials.cc:93] ALTS creds ignored. Not running on GCP and untrusted ALTS is not enabled.\n"
     ]
    },
    {
     "name": "stdout",
     "output_type": "stream",
     "text": [
      "SUCCESS: Chunk 2013-06-01 completed.\n",
      "\n",
      "Materializing chunk: 2013-09-09 to 2013-12-18\n",
      "Materializing \u001b[1m\u001b[32m2\u001b[0m feature views from \u001b[1m\u001b[32m2013-09-09 00:00:00+00:00\u001b[0m to \u001b[1m\u001b[32m2013-12-18 00:00:00+00:00\u001b[0m into the \u001b[1m\u001b[32mredis\u001b[0m online store.\n",
      "\n",
      "\u001b[1m\u001b[32muser_rating_feature_view\u001b[0m:\n"
     ]
    },
    {
     "name": "stderr",
     "output_type": "stream",
     "text": [
      "E0000 00:00:1758936500.467305    3497 alts_credentials.cc:93] ALTS creds ignored. Not running on GCP and untrusted ALTS is not enabled.\n"
     ]
    },
    {
     "name": "stdout",
     "output_type": "stream",
     "text": [
      "\u001b[1m\u001b[32mmovie_details_feature_view\u001b[0m:\n"
     ]
    },
    {
     "name": "stderr",
     "output_type": "stream",
     "text": [
      "E0000 00:00:1758936512.122307    3497 alts_credentials.cc:93] ALTS creds ignored. Not running on GCP and untrusted ALTS is not enabled.\n"
     ]
    },
    {
     "name": "stdout",
     "output_type": "stream",
     "text": [
      "SUCCESS: Chunk 2013-09-09 completed.\n",
      "\n",
      "Materializing chunk: 2013-12-18 to 2014-03-28\n",
      "Materializing \u001b[1m\u001b[32m2\u001b[0m feature views from \u001b[1m\u001b[32m2013-12-18 00:00:00+00:00\u001b[0m to \u001b[1m\u001b[32m2014-03-28 00:00:00+00:00\u001b[0m into the \u001b[1m\u001b[32mredis\u001b[0m online store.\n",
      "\n",
      "\u001b[1m\u001b[32muser_rating_feature_view\u001b[0m:\n"
     ]
    },
    {
     "name": "stderr",
     "output_type": "stream",
     "text": [
      "E0000 00:00:1758936516.785091    3497 alts_credentials.cc:93] ALTS creds ignored. Not running on GCP and untrusted ALTS is not enabled.\n"
     ]
    },
    {
     "name": "stdout",
     "output_type": "stream",
     "text": [
      "\u001b[1m\u001b[32mmovie_details_feature_view\u001b[0m:\n"
     ]
    },
    {
     "name": "stderr",
     "output_type": "stream",
     "text": [
      "E0000 00:00:1758936530.486332    3497 alts_credentials.cc:93] ALTS creds ignored. Not running on GCP and untrusted ALTS is not enabled.\n"
     ]
    },
    {
     "name": "stdout",
     "output_type": "stream",
     "text": [
      "SUCCESS: Chunk 2013-12-18 completed.\n",
      "\n",
      "Materializing chunk: 2014-03-28 to 2014-07-06\n",
      "Materializing \u001b[1m\u001b[32m2\u001b[0m feature views from \u001b[1m\u001b[32m2014-03-28 00:00:00+00:00\u001b[0m to \u001b[1m\u001b[32m2014-07-06 00:00:00+00:00\u001b[0m into the \u001b[1m\u001b[32mredis\u001b[0m online store.\n",
      "\n",
      "\u001b[1m\u001b[32muser_rating_feature_view\u001b[0m:\n"
     ]
    },
    {
     "name": "stderr",
     "output_type": "stream",
     "text": [
      "E0000 00:00:1758936534.956687    3497 alts_credentials.cc:93] ALTS creds ignored. Not running on GCP and untrusted ALTS is not enabled.\n"
     ]
    },
    {
     "name": "stdout",
     "output_type": "stream",
     "text": [
      "\u001b[1m\u001b[32mmovie_details_feature_view\u001b[0m:\n"
     ]
    },
    {
     "name": "stderr",
     "output_type": "stream",
     "text": [
      "E0000 00:00:1758936546.990284    3497 alts_credentials.cc:93] ALTS creds ignored. Not running on GCP and untrusted ALTS is not enabled.\n"
     ]
    },
    {
     "name": "stdout",
     "output_type": "stream",
     "text": [
      "SUCCESS: Chunk 2014-03-28 completed.\n",
      "\n",
      "Materializing chunk: 2014-07-06 to 2014-10-14\n",
      "Materializing \u001b[1m\u001b[32m2\u001b[0m feature views from \u001b[1m\u001b[32m2014-07-06 00:00:00+00:00\u001b[0m to \u001b[1m\u001b[32m2014-10-14 00:00:00+00:00\u001b[0m into the \u001b[1m\u001b[32mredis\u001b[0m online store.\n",
      "\n",
      "\u001b[1m\u001b[32muser_rating_feature_view\u001b[0m:\n"
     ]
    },
    {
     "name": "stderr",
     "output_type": "stream",
     "text": [
      "E0000 00:00:1758936551.765331    3497 alts_credentials.cc:93] ALTS creds ignored. Not running on GCP and untrusted ALTS is not enabled.\n"
     ]
    },
    {
     "name": "stdout",
     "output_type": "stream",
     "text": [
      "\u001b[1m\u001b[32mmovie_details_feature_view\u001b[0m:\n"
     ]
    },
    {
     "name": "stderr",
     "output_type": "stream",
     "text": [
      "E0000 00:00:1758936562.083281    3497 alts_credentials.cc:93] ALTS creds ignored. Not running on GCP and untrusted ALTS is not enabled.\n"
     ]
    },
    {
     "name": "stdout",
     "output_type": "stream",
     "text": [
      "SUCCESS: Chunk 2014-07-06 completed.\n",
      "\n",
      "Materializing chunk: 2014-10-14 to 2015-01-22\n",
      "Materializing \u001b[1m\u001b[32m2\u001b[0m feature views from \u001b[1m\u001b[32m2014-10-14 00:00:00+00:00\u001b[0m to \u001b[1m\u001b[32m2015-01-22 00:00:00+00:00\u001b[0m into the \u001b[1m\u001b[32mredis\u001b[0m online store.\n",
      "\n",
      "\u001b[1m\u001b[32muser_rating_feature_view\u001b[0m:\n"
     ]
    },
    {
     "name": "stderr",
     "output_type": "stream",
     "text": [
      "E0000 00:00:1758936566.712497    3497 alts_credentials.cc:93] ALTS creds ignored. Not running on GCP and untrusted ALTS is not enabled.\n"
     ]
    },
    {
     "name": "stdout",
     "output_type": "stream",
     "text": [
      "\u001b[1m\u001b[32mmovie_details_feature_view\u001b[0m:\n"
     ]
    },
    {
     "name": "stderr",
     "output_type": "stream",
     "text": [
      "E0000 00:00:1758936584.818240    3497 alts_credentials.cc:93] ALTS creds ignored. Not running on GCP and untrusted ALTS is not enabled.\n"
     ]
    },
    {
     "name": "stdout",
     "output_type": "stream",
     "text": [
      "SUCCESS: Chunk 2014-10-14 completed.\n",
      "\n",
      "Materializing chunk: 2015-01-22 to 2015-05-02\n",
      "Materializing \u001b[1m\u001b[32m2\u001b[0m feature views from \u001b[1m\u001b[32m2015-01-22 00:00:00+00:00\u001b[0m to \u001b[1m\u001b[32m2015-05-02 00:00:00+00:00\u001b[0m into the \u001b[1m\u001b[32mredis\u001b[0m online store.\n",
      "\n",
      "\u001b[1m\u001b[32muser_rating_feature_view\u001b[0m:\n"
     ]
    },
    {
     "name": "stderr",
     "output_type": "stream",
     "text": [
      "E0000 00:00:1758936590.428116    3497 alts_credentials.cc:93] ALTS creds ignored. Not running on GCP and untrusted ALTS is not enabled.\n"
     ]
    },
    {
     "name": "stdout",
     "output_type": "stream",
     "text": [
      "\u001b[1m\u001b[32mmovie_details_feature_view\u001b[0m:\n"
     ]
    },
    {
     "name": "stderr",
     "output_type": "stream",
     "text": [
      "E0000 00:00:1758936610.530349    3497 alts_credentials.cc:93] ALTS creds ignored. Not running on GCP and untrusted ALTS is not enabled.\n"
     ]
    },
    {
     "name": "stdout",
     "output_type": "stream",
     "text": [
      "SUCCESS: Chunk 2015-01-22 completed.\n",
      "\n",
      "Materializing chunk: 2015-05-02 to 2015-08-10\n",
      "Materializing \u001b[1m\u001b[32m2\u001b[0m feature views from \u001b[1m\u001b[32m2015-05-02 00:00:00+00:00\u001b[0m to \u001b[1m\u001b[32m2015-08-10 00:00:00+00:00\u001b[0m into the \u001b[1m\u001b[32mredis\u001b[0m online store.\n",
      "\n",
      "\u001b[1m\u001b[32muser_rating_feature_view\u001b[0m:\n"
     ]
    },
    {
     "name": "stderr",
     "output_type": "stream",
     "text": [
      "E0000 00:00:1758936616.463246    3497 alts_credentials.cc:93] ALTS creds ignored. Not running on GCP and untrusted ALTS is not enabled.\n"
     ]
    },
    {
     "name": "stdout",
     "output_type": "stream",
     "text": [
      "\u001b[1m\u001b[32mmovie_details_feature_view\u001b[0m:\n"
     ]
    },
    {
     "name": "stderr",
     "output_type": "stream",
     "text": [
      "E0000 00:00:1758936642.794477    3497 alts_credentials.cc:93] ALTS creds ignored. Not running on GCP and untrusted ALTS is not enabled.\n"
     ]
    },
    {
     "name": "stdout",
     "output_type": "stream",
     "text": [
      "SUCCESS: Chunk 2015-05-02 completed.\n",
      "\n",
      "Materializing chunk: 2015-08-10 to 2015-11-18\n",
      "Materializing \u001b[1m\u001b[32m2\u001b[0m feature views from \u001b[1m\u001b[32m2015-08-10 00:00:00+00:00\u001b[0m to \u001b[1m\u001b[32m2015-11-18 00:00:00+00:00\u001b[0m into the \u001b[1m\u001b[32mredis\u001b[0m online store.\n",
      "\n",
      "\u001b[1m\u001b[32muser_rating_feature_view\u001b[0m:\n"
     ]
    },
    {
     "name": "stderr",
     "output_type": "stream",
     "text": [
      "E0000 00:00:1758936647.504532    3497 alts_credentials.cc:93] ALTS creds ignored. Not running on GCP and untrusted ALTS is not enabled.\n"
     ]
    },
    {
     "name": "stdout",
     "output_type": "stream",
     "text": [
      "\u001b[1m\u001b[32mmovie_details_feature_view\u001b[0m:\n"
     ]
    },
    {
     "name": "stderr",
     "output_type": "stream",
     "text": [
      "E0000 00:00:1758936693.618623    3497 alts_credentials.cc:93] ALTS creds ignored. Not running on GCP and untrusted ALTS is not enabled.\n"
     ]
    },
    {
     "name": "stdout",
     "output_type": "stream",
     "text": [
      "SUCCESS: Chunk 2015-08-10 completed.\n",
      "\n",
      "Materializing chunk: 2015-11-18 to 2016-02-26\n",
      "Materializing \u001b[1m\u001b[32m2\u001b[0m feature views from \u001b[1m\u001b[32m2015-11-18 00:00:00+00:00\u001b[0m to \u001b[1m\u001b[32m2016-02-26 00:00:00+00:00\u001b[0m into the \u001b[1m\u001b[32mredis\u001b[0m online store.\n",
      "\n",
      "\u001b[1m\u001b[32muser_rating_feature_view\u001b[0m:\n"
     ]
    },
    {
     "name": "stderr",
     "output_type": "stream",
     "text": [
      "E0000 00:00:1758936699.301351    3497 alts_credentials.cc:93] ALTS creds ignored. Not running on GCP and untrusted ALTS is not enabled.\n"
     ]
    },
    {
     "name": "stdout",
     "output_type": "stream",
     "text": [
      "\u001b[1m\u001b[32mmovie_details_feature_view\u001b[0m:\n"
     ]
    },
    {
     "name": "stderr",
     "output_type": "stream",
     "text": [
      "E0000 00:00:1758936739.383515    3497 alts_credentials.cc:93] ALTS creds ignored. Not running on GCP and untrusted ALTS is not enabled.\n"
     ]
    },
    {
     "name": "stdout",
     "output_type": "stream",
     "text": [
      "SUCCESS: Chunk 2015-11-18 completed.\n",
      "\n",
      "Materializing chunk: 2016-02-26 to 2016-06-05\n",
      "Materializing \u001b[1m\u001b[32m2\u001b[0m feature views from \u001b[1m\u001b[32m2016-02-26 00:00:00+00:00\u001b[0m to \u001b[1m\u001b[32m2016-06-05 00:00:00+00:00\u001b[0m into the \u001b[1m\u001b[32mredis\u001b[0m online store.\n",
      "\n",
      "\u001b[1m\u001b[32muser_rating_feature_view\u001b[0m:\n"
     ]
    },
    {
     "name": "stderr",
     "output_type": "stream",
     "text": [
      "E0000 00:00:1758936745.358160    3497 alts_credentials.cc:93] ALTS creds ignored. Not running on GCP and untrusted ALTS is not enabled.\n"
     ]
    },
    {
     "name": "stdout",
     "output_type": "stream",
     "text": [
      "\u001b[1m\u001b[32mmovie_details_feature_view\u001b[0m:\n"
     ]
    },
    {
     "name": "stderr",
     "output_type": "stream",
     "text": [
      "E0000 00:00:1758936785.317206    3497 alts_credentials.cc:93] ALTS creds ignored. Not running on GCP and untrusted ALTS is not enabled.\n"
     ]
    },
    {
     "name": "stdout",
     "output_type": "stream",
     "text": [
      "SUCCESS: Chunk 2016-02-26 completed.\n",
      "\n",
      "Materializing chunk: 2016-06-05 to 2016-09-13\n",
      "Materializing \u001b[1m\u001b[32m2\u001b[0m feature views from \u001b[1m\u001b[32m2016-06-05 00:00:00+00:00\u001b[0m to \u001b[1m\u001b[32m2016-09-13 00:00:00+00:00\u001b[0m into the \u001b[1m\u001b[32mredis\u001b[0m online store.\n",
      "\n",
      "\u001b[1m\u001b[32muser_rating_feature_view\u001b[0m:\n"
     ]
    },
    {
     "name": "stderr",
     "output_type": "stream",
     "text": [
      "E0000 00:00:1758936791.210295    3497 alts_credentials.cc:93] ALTS creds ignored. Not running on GCP and untrusted ALTS is not enabled.\n"
     ]
    },
    {
     "name": "stdout",
     "output_type": "stream",
     "text": [
      "\u001b[1m\u001b[32mmovie_details_feature_view\u001b[0m:\n"
     ]
    },
    {
     "name": "stderr",
     "output_type": "stream",
     "text": [
      "E0000 00:00:1758936826.454867    3497 alts_credentials.cc:93] ALTS creds ignored. Not running on GCP and untrusted ALTS is not enabled.\n"
     ]
    },
    {
     "name": "stdout",
     "output_type": "stream",
     "text": [
      "SUCCESS: Chunk 2016-06-05 completed.\n",
      "\n",
      "Materializing chunk: 2016-09-13 to 2016-12-22\n",
      "Materializing \u001b[1m\u001b[32m2\u001b[0m feature views from \u001b[1m\u001b[32m2016-09-13 00:00:00+00:00\u001b[0m to \u001b[1m\u001b[32m2016-12-22 00:00:00+00:00\u001b[0m into the \u001b[1m\u001b[32mredis\u001b[0m online store.\n",
      "\n",
      "\u001b[1m\u001b[32muser_rating_feature_view\u001b[0m:\n"
     ]
    },
    {
     "name": "stderr",
     "output_type": "stream",
     "text": [
      "E0000 00:00:1758936832.324816    3497 alts_credentials.cc:93] ALTS creds ignored. Not running on GCP and untrusted ALTS is not enabled.\n"
     ]
    },
    {
     "name": "stdout",
     "output_type": "stream",
     "text": [
      "\u001b[1m\u001b[32mmovie_details_feature_view\u001b[0m:\n"
     ]
    },
    {
     "name": "stderr",
     "output_type": "stream",
     "text": [
      "E0000 00:00:1758936862.042308    3497 alts_credentials.cc:93] ALTS creds ignored. Not running on GCP and untrusted ALTS is not enabled.\n"
     ]
    },
    {
     "name": "stdout",
     "output_type": "stream",
     "text": [
      "SUCCESS: Chunk 2016-09-13 completed.\n",
      "\n",
      "Materializing chunk: 2016-12-22 to 2017-04-01\n",
      "Materializing \u001b[1m\u001b[32m2\u001b[0m feature views from \u001b[1m\u001b[32m2016-12-22 00:00:00+00:00\u001b[0m to \u001b[1m\u001b[32m2017-04-01 00:00:00+00:00\u001b[0m into the \u001b[1m\u001b[32mredis\u001b[0m online store.\n",
      "\n",
      "\u001b[1m\u001b[32muser_rating_feature_view\u001b[0m:\n"
     ]
    },
    {
     "name": "stderr",
     "output_type": "stream",
     "text": [
      "E0000 00:00:1758936867.633189    3497 alts_credentials.cc:93] ALTS creds ignored. Not running on GCP and untrusted ALTS is not enabled.\n"
     ]
    },
    {
     "name": "stdout",
     "output_type": "stream",
     "text": [
      "\u001b[1m\u001b[32mmovie_details_feature_view\u001b[0m:\n"
     ]
    },
    {
     "name": "stderr",
     "output_type": "stream",
     "text": [
      "E0000 00:00:1758936905.210526    3497 alts_credentials.cc:93] ALTS creds ignored. Not running on GCP and untrusted ALTS is not enabled.\n"
     ]
    },
    {
     "name": "stdout",
     "output_type": "stream",
     "text": [
      "SUCCESS: Chunk 2016-12-22 completed.\n",
      "\n",
      "Materializing chunk: 2017-04-01 to 2017-07-10\n",
      "Materializing \u001b[1m\u001b[32m2\u001b[0m feature views from \u001b[1m\u001b[32m2017-04-01 00:00:00+00:00\u001b[0m to \u001b[1m\u001b[32m2017-07-10 00:00:00+00:00\u001b[0m into the \u001b[1m\u001b[32mredis\u001b[0m online store.\n",
      "\n",
      "\u001b[1m\u001b[32muser_rating_feature_view\u001b[0m:\n"
     ]
    },
    {
     "name": "stderr",
     "output_type": "stream",
     "text": [
      "E0000 00:00:1758936910.507977    3497 alts_credentials.cc:93] ALTS creds ignored. Not running on GCP and untrusted ALTS is not enabled.\n"
     ]
    },
    {
     "name": "stdout",
     "output_type": "stream",
     "text": [
      "\u001b[1m\u001b[32mmovie_details_feature_view\u001b[0m:\n"
     ]
    },
    {
     "name": "stderr",
     "output_type": "stream",
     "text": [
      "E0000 00:00:1758936942.780754    3497 alts_credentials.cc:93] ALTS creds ignored. Not running on GCP and untrusted ALTS is not enabled.\n"
     ]
    },
    {
     "name": "stdout",
     "output_type": "stream",
     "text": [
      "SUCCESS: Chunk 2017-04-01 completed.\n",
      "\n",
      "Materializing chunk: 2017-07-10 to 2017-10-18\n",
      "Materializing \u001b[1m\u001b[32m2\u001b[0m feature views from \u001b[1m\u001b[32m2017-07-10 00:00:00+00:00\u001b[0m to \u001b[1m\u001b[32m2017-10-18 00:00:00+00:00\u001b[0m into the \u001b[1m\u001b[32mredis\u001b[0m online store.\n",
      "\n",
      "\u001b[1m\u001b[32muser_rating_feature_view\u001b[0m:\n"
     ]
    },
    {
     "name": "stderr",
     "output_type": "stream",
     "text": [
      "E0000 00:00:1758936948.404636    3497 alts_credentials.cc:93] ALTS creds ignored. Not running on GCP and untrusted ALTS is not enabled.\n"
     ]
    },
    {
     "name": "stdout",
     "output_type": "stream",
     "text": [
      "\u001b[1m\u001b[32mmovie_details_feature_view\u001b[0m:\n"
     ]
    },
    {
     "name": "stderr",
     "output_type": "stream",
     "text": [
      "E0000 00:00:1758936982.599671    3497 alts_credentials.cc:93] ALTS creds ignored. Not running on GCP and untrusted ALTS is not enabled.\n"
     ]
    },
    {
     "name": "stdout",
     "output_type": "stream",
     "text": [
      "SUCCESS: Chunk 2017-07-10 completed.\n",
      "\n",
      "Materializing chunk: 2017-10-18 to 2018-01-26\n",
      "Materializing \u001b[1m\u001b[32m2\u001b[0m feature views from \u001b[1m\u001b[32m2017-10-18 00:00:00+00:00\u001b[0m to \u001b[1m\u001b[32m2018-01-26 00:00:00+00:00\u001b[0m into the \u001b[1m\u001b[32mredis\u001b[0m online store.\n",
      "\n",
      "\u001b[1m\u001b[32muser_rating_feature_view\u001b[0m:\n"
     ]
    },
    {
     "name": "stderr",
     "output_type": "stream",
     "text": [
      "E0000 00:00:1758936989.148399    3497 alts_credentials.cc:93] ALTS creds ignored. Not running on GCP and untrusted ALTS is not enabled.\n"
     ]
    },
    {
     "name": "stdout",
     "output_type": "stream",
     "text": [
      "\u001b[1m\u001b[32mmovie_details_feature_view\u001b[0m:\n"
     ]
    },
    {
     "name": "stderr",
     "output_type": "stream",
     "text": [
      "E0000 00:00:1758937018.042948    3497 alts_credentials.cc:93] ALTS creds ignored. Not running on GCP and untrusted ALTS is not enabled.\n"
     ]
    },
    {
     "name": "stdout",
     "output_type": "stream",
     "text": [
      "SUCCESS: Chunk 2017-10-18 completed.\n",
      "\n",
      "Materializing chunk: 2018-01-26 to 2018-05-06\n",
      "Materializing \u001b[1m\u001b[32m2\u001b[0m feature views from \u001b[1m\u001b[32m2018-01-26 00:00:00+00:00\u001b[0m to \u001b[1m\u001b[32m2018-05-06 00:00:00+00:00\u001b[0m into the \u001b[1m\u001b[32mredis\u001b[0m online store.\n",
      "\n",
      "\u001b[1m\u001b[32muser_rating_feature_view\u001b[0m:\n"
     ]
    },
    {
     "name": "stderr",
     "output_type": "stream",
     "text": [
      "E0000 00:00:1758937022.428647    3497 alts_credentials.cc:93] ALTS creds ignored. Not running on GCP and untrusted ALTS is not enabled.\n"
     ]
    },
    {
     "name": "stdout",
     "output_type": "stream",
     "text": [
      "\u001b[1m\u001b[32mmovie_details_feature_view\u001b[0m:\n"
     ]
    },
    {
     "name": "stderr",
     "output_type": "stream",
     "text": [
      "E0000 00:00:1758937051.217627    3497 alts_credentials.cc:93] ALTS creds ignored. Not running on GCP and untrusted ALTS is not enabled.\n"
     ]
    },
    {
     "name": "stdout",
     "output_type": "stream",
     "text": [
      "SUCCESS: Chunk 2018-01-26 completed.\n",
      "\n",
      "Materializing chunk: 2018-05-06 to 2018-08-14\n",
      "Materializing \u001b[1m\u001b[32m2\u001b[0m feature views from \u001b[1m\u001b[32m2018-05-06 00:00:00+00:00\u001b[0m to \u001b[1m\u001b[32m2018-08-14 00:00:00+00:00\u001b[0m into the \u001b[1m\u001b[32mredis\u001b[0m online store.\n",
      "\n",
      "\u001b[1m\u001b[32muser_rating_feature_view\u001b[0m:\n"
     ]
    },
    {
     "name": "stderr",
     "output_type": "stream",
     "text": [
      "E0000 00:00:1758937076.651258    3497 alts_credentials.cc:93] ALTS creds ignored. Not running on GCP and untrusted ALTS is not enabled.\n"
     ]
    },
    {
     "name": "stdout",
     "output_type": "stream",
     "text": [
      "\u001b[1m\u001b[32mmovie_details_feature_view\u001b[0m:\n"
     ]
    },
    {
     "name": "stderr",
     "output_type": "stream",
     "text": [
      "E0000 00:00:1758937102.378065    3497 alts_credentials.cc:93] ALTS creds ignored. Not running on GCP and untrusted ALTS is not enabled.\n"
     ]
    },
    {
     "name": "stdout",
     "output_type": "stream",
     "text": [
      "SUCCESS: Chunk 2018-05-06 completed.\n",
      "\n",
      "Materializing chunk: 2018-08-14 to 2018-11-22\n",
      "Materializing \u001b[1m\u001b[32m2\u001b[0m feature views from \u001b[1m\u001b[32m2018-08-14 00:00:00+00:00\u001b[0m to \u001b[1m\u001b[32m2018-11-22 00:00:00+00:00\u001b[0m into the \u001b[1m\u001b[32mredis\u001b[0m online store.\n",
      "\n",
      "\u001b[1m\u001b[32muser_rating_feature_view\u001b[0m:\n"
     ]
    },
    {
     "name": "stderr",
     "output_type": "stream",
     "text": [
      "E0000 00:00:1758937106.899777    3497 alts_credentials.cc:93] ALTS creds ignored. Not running on GCP and untrusted ALTS is not enabled.\n"
     ]
    },
    {
     "name": "stdout",
     "output_type": "stream",
     "text": [
      "\u001b[1m\u001b[32mmovie_details_feature_view\u001b[0m:\n"
     ]
    },
    {
     "name": "stderr",
     "output_type": "stream",
     "text": [
      "E0000 00:00:1758937134.873471    3497 alts_credentials.cc:93] ALTS creds ignored. Not running on GCP and untrusted ALTS is not enabled.\n"
     ]
    },
    {
     "name": "stdout",
     "output_type": "stream",
     "text": [
      "SUCCESS: Chunk 2018-08-14 completed.\n",
      "\n",
      "Materializing chunk: 2018-11-22 to 2019-03-02\n",
      "Materializing \u001b[1m\u001b[32m2\u001b[0m feature views from \u001b[1m\u001b[32m2018-11-22 00:00:00+00:00\u001b[0m to \u001b[1m\u001b[32m2019-03-02 00:00:00+00:00\u001b[0m into the \u001b[1m\u001b[32mredis\u001b[0m online store.\n",
      "\n",
      "\u001b[1m\u001b[32muser_rating_feature_view\u001b[0m:\n"
     ]
    },
    {
     "name": "stderr",
     "output_type": "stream",
     "text": [
      "E0000 00:00:1758937139.440776    3497 alts_credentials.cc:93] ALTS creds ignored. Not running on GCP and untrusted ALTS is not enabled.\n"
     ]
    },
    {
     "name": "stdout",
     "output_type": "stream",
     "text": [
      "\u001b[1m\u001b[32mmovie_details_feature_view\u001b[0m:\n"
     ]
    },
    {
     "name": "stderr",
     "output_type": "stream",
     "text": [
      "E0000 00:00:1758937170.864524    3497 alts_credentials.cc:93] ALTS creds ignored. Not running on GCP and untrusted ALTS is not enabled.\n"
     ]
    },
    {
     "name": "stdout",
     "output_type": "stream",
     "text": [
      "SUCCESS: Chunk 2018-11-22 completed.\n",
      "\n",
      "Materializing chunk: 2019-03-02 to 2019-06-10\n",
      "Materializing \u001b[1m\u001b[32m2\u001b[0m feature views from \u001b[1m\u001b[32m2019-03-02 00:00:00+00:00\u001b[0m to \u001b[1m\u001b[32m2019-06-10 00:00:00+00:00\u001b[0m into the \u001b[1m\u001b[32mredis\u001b[0m online store.\n",
      "\n",
      "\u001b[1m\u001b[32muser_rating_feature_view\u001b[0m:\n"
     ]
    },
    {
     "name": "stderr",
     "output_type": "stream",
     "text": [
      "E0000 00:00:1758937176.599421    3497 alts_credentials.cc:93] ALTS creds ignored. Not running on GCP and untrusted ALTS is not enabled.\n"
     ]
    },
    {
     "name": "stdout",
     "output_type": "stream",
     "text": [
      "\u001b[1m\u001b[32mmovie_details_feature_view\u001b[0m:\n"
     ]
    },
    {
     "name": "stderr",
     "output_type": "stream",
     "text": [
      "E0000 00:00:1758937208.446242    3497 alts_credentials.cc:93] ALTS creds ignored. Not running on GCP and untrusted ALTS is not enabled.\n"
     ]
    },
    {
     "name": "stdout",
     "output_type": "stream",
     "text": [
      "SUCCESS: Chunk 2019-03-02 completed.\n",
      "\n",
      "Materializing chunk: 2019-06-10 to 2019-09-18\n",
      "Materializing \u001b[1m\u001b[32m2\u001b[0m feature views from \u001b[1m\u001b[32m2019-06-10 00:00:00+00:00\u001b[0m to \u001b[1m\u001b[32m2019-09-18 00:00:00+00:00\u001b[0m into the \u001b[1m\u001b[32mredis\u001b[0m online store.\n",
      "\n",
      "\u001b[1m\u001b[32muser_rating_feature_view\u001b[0m:\n"
     ]
    },
    {
     "name": "stderr",
     "output_type": "stream",
     "text": [
      "E0000 00:00:1758937213.234182    3497 alts_credentials.cc:93] ALTS creds ignored. Not running on GCP and untrusted ALTS is not enabled.\n"
     ]
    },
    {
     "name": "stdout",
     "output_type": "stream",
     "text": [
      "\u001b[1m\u001b[32mmovie_details_feature_view\u001b[0m:\n"
     ]
    },
    {
     "name": "stderr",
     "output_type": "stream",
     "text": [
      "E0000 00:00:1758937240.030345    3497 alts_credentials.cc:93] ALTS creds ignored. Not running on GCP and untrusted ALTS is not enabled.\n"
     ]
    },
    {
     "name": "stdout",
     "output_type": "stream",
     "text": [
      "SUCCESS: Chunk 2019-06-10 completed.\n",
      "\n",
      "Materializing chunk: 2019-09-18 to 2019-12-27\n",
      "Materializing \u001b[1m\u001b[32m2\u001b[0m feature views from \u001b[1m\u001b[32m2019-09-18 00:00:00+00:00\u001b[0m to \u001b[1m\u001b[32m2019-12-27 00:00:00+00:00\u001b[0m into the \u001b[1m\u001b[32mredis\u001b[0m online store.\n",
      "\n",
      "\u001b[1m\u001b[32muser_rating_feature_view\u001b[0m:\n"
     ]
    },
    {
     "name": "stderr",
     "output_type": "stream",
     "text": [
      "E0000 00:00:1758937244.887571    3497 alts_credentials.cc:93] ALTS creds ignored. Not running on GCP and untrusted ALTS is not enabled.\n"
     ]
    },
    {
     "name": "stdout",
     "output_type": "stream",
     "text": [
      "\u001b[1m\u001b[32mmovie_details_feature_view\u001b[0m:\n"
     ]
    },
    {
     "name": "stderr",
     "output_type": "stream",
     "text": [
      "E0000 00:00:1758937263.001065    3497 alts_credentials.cc:93] ALTS creds ignored. Not running on GCP and untrusted ALTS is not enabled.\n"
     ]
    },
    {
     "name": "stdout",
     "output_type": "stream",
     "text": [
      "SUCCESS: Chunk 2019-09-18 completed.\n",
      "\n",
      "Materializing chunk: 2019-12-27 to 2020-04-05\n",
      "Materializing \u001b[1m\u001b[32m2\u001b[0m feature views from \u001b[1m\u001b[32m2019-12-27 00:00:00+00:00\u001b[0m to \u001b[1m\u001b[32m2020-04-05 00:00:00+00:00\u001b[0m into the \u001b[1m\u001b[32mredis\u001b[0m online store.\n",
      "\n",
      "\u001b[1m\u001b[32muser_rating_feature_view\u001b[0m:\n"
     ]
    },
    {
     "name": "stderr",
     "output_type": "stream",
     "text": [
      "E0000 00:00:1758937265.939177    3497 alts_credentials.cc:93] ALTS creds ignored. Not running on GCP and untrusted ALTS is not enabled.\n"
     ]
    },
    {
     "name": "stdout",
     "output_type": "stream",
     "text": [
      "\u001b[1m\u001b[32mmovie_details_feature_view\u001b[0m:\n"
     ]
    },
    {
     "name": "stderr",
     "output_type": "stream",
     "text": [
      "E0000 00:00:1758937268.812141    3497 alts_credentials.cc:93] ALTS creds ignored. Not running on GCP and untrusted ALTS is not enabled.\n"
     ]
    },
    {
     "name": "stdout",
     "output_type": "stream",
     "text": [
      "SUCCESS: Chunk 2019-12-27 completed.\n",
      "\n",
      "Materializing chunk: 2020-04-05 to 2020-07-14\n",
      "Materializing \u001b[1m\u001b[32m2\u001b[0m feature views from \u001b[1m\u001b[32m2020-04-05 00:00:00+00:00\u001b[0m to \u001b[1m\u001b[32m2020-07-14 00:00:00+00:00\u001b[0m into the \u001b[1m\u001b[32mredis\u001b[0m online store.\n",
      "\n",
      "\u001b[1m\u001b[32muser_rating_feature_view\u001b[0m:\n"
     ]
    },
    {
     "name": "stderr",
     "output_type": "stream",
     "text": [
      "E0000 00:00:1758937271.738327    3497 alts_credentials.cc:93] ALTS creds ignored. Not running on GCP and untrusted ALTS is not enabled.\n"
     ]
    },
    {
     "name": "stdout",
     "output_type": "stream",
     "text": [
      "\u001b[1m\u001b[32mmovie_details_feature_view\u001b[0m:\n"
     ]
    },
    {
     "name": "stderr",
     "output_type": "stream",
     "text": [
      "E0000 00:00:1758937274.802851    3497 alts_credentials.cc:93] ALTS creds ignored. Not running on GCP and untrusted ALTS is not enabled.\n"
     ]
    },
    {
     "name": "stdout",
     "output_type": "stream",
     "text": [
      "SUCCESS: Chunk 2020-04-05 completed.\n",
      "\n",
      "Materializing chunk: 2020-07-14 to 2020-10-22\n",
      "Materializing \u001b[1m\u001b[32m2\u001b[0m feature views from \u001b[1m\u001b[32m2020-07-14 00:00:00+00:00\u001b[0m to \u001b[1m\u001b[32m2020-10-22 00:00:00+00:00\u001b[0m into the \u001b[1m\u001b[32mredis\u001b[0m online store.\n",
      "\n",
      "\u001b[1m\u001b[32muser_rating_feature_view\u001b[0m:\n"
     ]
    },
    {
     "name": "stderr",
     "output_type": "stream",
     "text": [
      "E0000 00:00:1758937277.880412    3497 alts_credentials.cc:93] ALTS creds ignored. Not running on GCP and untrusted ALTS is not enabled.\n"
     ]
    },
    {
     "name": "stdout",
     "output_type": "stream",
     "text": [
      "\u001b[1m\u001b[32mmovie_details_feature_view\u001b[0m:\n"
     ]
    },
    {
     "name": "stderr",
     "output_type": "stream",
     "text": [
      "E0000 00:00:1758937281.023862    3497 alts_credentials.cc:93] ALTS creds ignored. Not running on GCP and untrusted ALTS is not enabled.\n"
     ]
    },
    {
     "name": "stdout",
     "output_type": "stream",
     "text": [
      "SUCCESS: Chunk 2020-07-14 completed.\n",
      "\n",
      "Materializing chunk: 2020-10-22 to 2021-01-30\n",
      "Materializing \u001b[1m\u001b[32m2\u001b[0m feature views from \u001b[1m\u001b[32m2020-10-22 00:00:00+00:00\u001b[0m to \u001b[1m\u001b[32m2021-01-30 00:00:00+00:00\u001b[0m into the \u001b[1m\u001b[32mredis\u001b[0m online store.\n",
      "\n",
      "\u001b[1m\u001b[32muser_rating_feature_view\u001b[0m:\n"
     ]
    },
    {
     "name": "stderr",
     "output_type": "stream",
     "text": [
      "E0000 00:00:1758937284.158346    3497 alts_credentials.cc:93] ALTS creds ignored. Not running on GCP and untrusted ALTS is not enabled.\n"
     ]
    },
    {
     "name": "stdout",
     "output_type": "stream",
     "text": [
      "\u001b[1m\u001b[32mmovie_details_feature_view\u001b[0m:\n"
     ]
    },
    {
     "name": "stderr",
     "output_type": "stream",
     "text": [
      "E0000 00:00:1758937287.033260    3497 alts_credentials.cc:93] ALTS creds ignored. Not running on GCP and untrusted ALTS is not enabled.\n"
     ]
    },
    {
     "name": "stdout",
     "output_type": "stream",
     "text": [
      "SUCCESS: Chunk 2020-10-22 completed.\n",
      "\n",
      "Materializing chunk: 2021-01-30 to 2021-05-10\n",
      "Materializing \u001b[1m\u001b[32m2\u001b[0m feature views from \u001b[1m\u001b[32m2021-01-30 00:00:00+00:00\u001b[0m to \u001b[1m\u001b[32m2021-05-10 00:00:00+00:00\u001b[0m into the \u001b[1m\u001b[32mredis\u001b[0m online store.\n",
      "\n",
      "\u001b[1m\u001b[32muser_rating_feature_view\u001b[0m:\n"
     ]
    },
    {
     "name": "stderr",
     "output_type": "stream",
     "text": [
      "E0000 00:00:1758937290.216909    3497 alts_credentials.cc:93] ALTS creds ignored. Not running on GCP and untrusted ALTS is not enabled.\n"
     ]
    },
    {
     "name": "stdout",
     "output_type": "stream",
     "text": [
      "\u001b[1m\u001b[32mmovie_details_feature_view\u001b[0m:\n"
     ]
    },
    {
     "name": "stderr",
     "output_type": "stream",
     "text": [
      "E0000 00:00:1758937293.155898    3497 alts_credentials.cc:93] ALTS creds ignored. Not running on GCP and untrusted ALTS is not enabled.\n"
     ]
    },
    {
     "name": "stdout",
     "output_type": "stream",
     "text": [
      "SUCCESS: Chunk 2021-01-30 completed.\n",
      "\n",
      "Materializing chunk: 2021-05-10 to 2021-08-18\n",
      "Materializing \u001b[1m\u001b[32m2\u001b[0m feature views from \u001b[1m\u001b[32m2021-05-10 00:00:00+00:00\u001b[0m to \u001b[1m\u001b[32m2021-08-18 00:00:00+00:00\u001b[0m into the \u001b[1m\u001b[32mredis\u001b[0m online store.\n",
      "\n",
      "\u001b[1m\u001b[32muser_rating_feature_view\u001b[0m:\n"
     ]
    },
    {
     "name": "stderr",
     "output_type": "stream",
     "text": [
      "E0000 00:00:1758937296.345208    3497 alts_credentials.cc:93] ALTS creds ignored. Not running on GCP and untrusted ALTS is not enabled.\n"
     ]
    },
    {
     "name": "stdout",
     "output_type": "stream",
     "text": [
      "\u001b[1m\u001b[32mmovie_details_feature_view\u001b[0m:\n"
     ]
    },
    {
     "name": "stderr",
     "output_type": "stream",
     "text": [
      "E0000 00:00:1758937299.231729    3497 alts_credentials.cc:93] ALTS creds ignored. Not running on GCP and untrusted ALTS is not enabled.\n"
     ]
    },
    {
     "name": "stdout",
     "output_type": "stream",
     "text": [
      "SUCCESS: Chunk 2021-05-10 completed.\n",
      "\n",
      "Materializing chunk: 2021-08-18 to 2021-11-26\n",
      "Materializing \u001b[1m\u001b[32m2\u001b[0m feature views from \u001b[1m\u001b[32m2021-08-18 00:00:00+00:00\u001b[0m to \u001b[1m\u001b[32m2021-11-26 00:00:00+00:00\u001b[0m into the \u001b[1m\u001b[32mredis\u001b[0m online store.\n",
      "\n",
      "\u001b[1m\u001b[32muser_rating_feature_view\u001b[0m:\n"
     ]
    },
    {
     "name": "stderr",
     "output_type": "stream",
     "text": [
      "E0000 00:00:1758937302.381114    3497 alts_credentials.cc:93] ALTS creds ignored. Not running on GCP and untrusted ALTS is not enabled.\n"
     ]
    },
    {
     "name": "stdout",
     "output_type": "stream",
     "text": [
      "\u001b[1m\u001b[32mmovie_details_feature_view\u001b[0m:\n"
     ]
    },
    {
     "name": "stderr",
     "output_type": "stream",
     "text": [
      "E0000 00:00:1758937305.056270    3497 alts_credentials.cc:93] ALTS creds ignored. Not running on GCP and untrusted ALTS is not enabled.\n"
     ]
    },
    {
     "name": "stdout",
     "output_type": "stream",
     "text": [
      "SUCCESS: Chunk 2021-08-18 completed.\n",
      "\n",
      "Materializing chunk: 2021-11-26 to 2022-03-06\n",
      "Materializing \u001b[1m\u001b[32m2\u001b[0m feature views from \u001b[1m\u001b[32m2021-11-26 00:00:00+00:00\u001b[0m to \u001b[1m\u001b[32m2022-03-06 00:00:00+00:00\u001b[0m into the \u001b[1m\u001b[32mredis\u001b[0m online store.\n",
      "\n",
      "\u001b[1m\u001b[32muser_rating_feature_view\u001b[0m:\n"
     ]
    },
    {
     "name": "stderr",
     "output_type": "stream",
     "text": [
      "E0000 00:00:1758937308.050171    3497 alts_credentials.cc:93] ALTS creds ignored. Not running on GCP and untrusted ALTS is not enabled.\n"
     ]
    },
    {
     "name": "stdout",
     "output_type": "stream",
     "text": [
      "\u001b[1m\u001b[32mmovie_details_feature_view\u001b[0m:\n"
     ]
    },
    {
     "name": "stderr",
     "output_type": "stream",
     "text": [
      "E0000 00:00:1758937310.972914    3497 alts_credentials.cc:93] ALTS creds ignored. Not running on GCP and untrusted ALTS is not enabled.\n"
     ]
    },
    {
     "name": "stdout",
     "output_type": "stream",
     "text": [
      "SUCCESS: Chunk 2021-11-26 completed.\n",
      "\n",
      "Materializing chunk: 2022-03-06 to 2022-06-14\n",
      "Materializing \u001b[1m\u001b[32m2\u001b[0m feature views from \u001b[1m\u001b[32m2022-03-06 00:00:00+00:00\u001b[0m to \u001b[1m\u001b[32m2022-06-14 00:00:00+00:00\u001b[0m into the \u001b[1m\u001b[32mredis\u001b[0m online store.\n",
      "\n",
      "\u001b[1m\u001b[32muser_rating_feature_view\u001b[0m:\n"
     ]
    },
    {
     "name": "stderr",
     "output_type": "stream",
     "text": [
      "E0000 00:00:1758937314.157016    3497 alts_credentials.cc:93] ALTS creds ignored. Not running on GCP and untrusted ALTS is not enabled.\n"
     ]
    },
    {
     "name": "stdout",
     "output_type": "stream",
     "text": [
      "\u001b[1m\u001b[32mmovie_details_feature_view\u001b[0m:\n"
     ]
    },
    {
     "name": "stderr",
     "output_type": "stream",
     "text": [
      "E0000 00:00:1758937317.249677    3497 alts_credentials.cc:93] ALTS creds ignored. Not running on GCP and untrusted ALTS is not enabled.\n"
     ]
    },
    {
     "name": "stdout",
     "output_type": "stream",
     "text": [
      "SUCCESS: Chunk 2022-03-06 completed.\n",
      "\n",
      "Materializing chunk: 2022-06-14 to 2022-09-22\n",
      "Materializing \u001b[1m\u001b[32m2\u001b[0m feature views from \u001b[1m\u001b[32m2022-06-14 00:00:00+00:00\u001b[0m to \u001b[1m\u001b[32m2022-09-22 00:00:00+00:00\u001b[0m into the \u001b[1m\u001b[32mredis\u001b[0m online store.\n",
      "\n",
      "\u001b[1m\u001b[32muser_rating_feature_view\u001b[0m:\n"
     ]
    },
    {
     "name": "stderr",
     "output_type": "stream",
     "text": [
      "E0000 00:00:1758937320.465478    3497 alts_credentials.cc:93] ALTS creds ignored. Not running on GCP and untrusted ALTS is not enabled.\n"
     ]
    },
    {
     "name": "stdout",
     "output_type": "stream",
     "text": [
      "\u001b[1m\u001b[32mmovie_details_feature_view\u001b[0m:\n"
     ]
    },
    {
     "name": "stderr",
     "output_type": "stream",
     "text": [
      "E0000 00:00:1758937323.455328    3497 alts_credentials.cc:93] ALTS creds ignored. Not running on GCP and untrusted ALTS is not enabled.\n"
     ]
    },
    {
     "name": "stdout",
     "output_type": "stream",
     "text": [
      "SUCCESS: Chunk 2022-06-14 completed.\n",
      "\n",
      "Materializing chunk: 2022-09-22 to 2022-12-31\n",
      "Materializing \u001b[1m\u001b[32m2\u001b[0m feature views from \u001b[1m\u001b[32m2022-09-22 00:00:00+00:00\u001b[0m to \u001b[1m\u001b[32m2022-12-31 00:00:00+00:00\u001b[0m into the \u001b[1m\u001b[32mredis\u001b[0m online store.\n",
      "\n",
      "\u001b[1m\u001b[32muser_rating_feature_view\u001b[0m:\n"
     ]
    },
    {
     "name": "stderr",
     "output_type": "stream",
     "text": [
      "E0000 00:00:1758937326.692530    3497 alts_credentials.cc:93] ALTS creds ignored. Not running on GCP and untrusted ALTS is not enabled.\n"
     ]
    },
    {
     "name": "stdout",
     "output_type": "stream",
     "text": [
      "\u001b[1m\u001b[32mmovie_details_feature_view\u001b[0m:\n"
     ]
    },
    {
     "name": "stderr",
     "output_type": "stream",
     "text": [
      "E0000 00:00:1758937329.492601    3497 alts_credentials.cc:93] ALTS creds ignored. Not running on GCP and untrusted ALTS is not enabled.\n"
     ]
    },
    {
     "name": "stdout",
     "output_type": "stream",
     "text": [
      "SUCCESS: Chunk 2022-09-22 completed.\n",
      "\n",
      "Materializing chunk: 2022-12-31 to 2023-04-10\n",
      "Materializing \u001b[1m\u001b[32m2\u001b[0m feature views from \u001b[1m\u001b[32m2022-12-31 00:00:00+00:00\u001b[0m to \u001b[1m\u001b[32m2023-04-10 00:00:00+00:00\u001b[0m into the \u001b[1m\u001b[32mredis\u001b[0m online store.\n",
      "\n",
      "\u001b[1m\u001b[32muser_rating_feature_view\u001b[0m:\n"
     ]
    },
    {
     "name": "stderr",
     "output_type": "stream",
     "text": [
      "E0000 00:00:1758937332.586218    3497 alts_credentials.cc:93] ALTS creds ignored. Not running on GCP and untrusted ALTS is not enabled.\n"
     ]
    },
    {
     "name": "stdout",
     "output_type": "stream",
     "text": [
      "\u001b[1m\u001b[32mmovie_details_feature_view\u001b[0m:\n"
     ]
    },
    {
     "name": "stderr",
     "output_type": "stream",
     "text": [
      "E0000 00:00:1758937335.363809    3497 alts_credentials.cc:93] ALTS creds ignored. Not running on GCP and untrusted ALTS is not enabled.\n"
     ]
    },
    {
     "name": "stdout",
     "output_type": "stream",
     "text": [
      "SUCCESS: Chunk 2022-12-31 completed.\n",
      "\n",
      "Materializing chunk: 2023-04-10 to 2023-07-19\n",
      "Materializing \u001b[1m\u001b[32m2\u001b[0m feature views from \u001b[1m\u001b[32m2023-04-10 00:00:00+00:00\u001b[0m to \u001b[1m\u001b[32m2023-07-19 00:00:00+00:00\u001b[0m into the \u001b[1m\u001b[32mredis\u001b[0m online store.\n",
      "\n",
      "\u001b[1m\u001b[32muser_rating_feature_view\u001b[0m:\n"
     ]
    },
    {
     "name": "stderr",
     "output_type": "stream",
     "text": [
      "E0000 00:00:1758937338.508384    3497 alts_credentials.cc:93] ALTS creds ignored. Not running on GCP and untrusted ALTS is not enabled.\n"
     ]
    },
    {
     "name": "stdout",
     "output_type": "stream",
     "text": [
      "\u001b[1m\u001b[32mmovie_details_feature_view\u001b[0m:\n"
     ]
    },
    {
     "name": "stderr",
     "output_type": "stream",
     "text": [
      "E0000 00:00:1758937341.622340    3497 alts_credentials.cc:93] ALTS creds ignored. Not running on GCP and untrusted ALTS is not enabled.\n"
     ]
    },
    {
     "name": "stdout",
     "output_type": "stream",
     "text": [
      "SUCCESS: Chunk 2023-04-10 completed.\n",
      "\n",
      "Materializing chunk: 2023-07-19 to 2023-10-27\n",
      "Materializing \u001b[1m\u001b[32m2\u001b[0m feature views from \u001b[1m\u001b[32m2023-07-19 00:00:00+00:00\u001b[0m to \u001b[1m\u001b[32m2023-10-27 00:00:00+00:00\u001b[0m into the \u001b[1m\u001b[32mredis\u001b[0m online store.\n",
      "\n",
      "\u001b[1m\u001b[32muser_rating_feature_view\u001b[0m:\n"
     ]
    },
    {
     "name": "stderr",
     "output_type": "stream",
     "text": [
      "E0000 00:00:1758937344.711889    3497 alts_credentials.cc:93] ALTS creds ignored. Not running on GCP and untrusted ALTS is not enabled.\n"
     ]
    },
    {
     "name": "stdout",
     "output_type": "stream",
     "text": [
      "\u001b[1m\u001b[32mmovie_details_feature_view\u001b[0m:\n"
     ]
    },
    {
     "name": "stderr",
     "output_type": "stream",
     "text": [
      "E0000 00:00:1758937347.626404    3497 alts_credentials.cc:93] ALTS creds ignored. Not running on GCP and untrusted ALTS is not enabled.\n"
     ]
    },
    {
     "name": "stdout",
     "output_type": "stream",
     "text": [
      "SUCCESS: Chunk 2023-07-19 completed.\n",
      "\n",
      "Materializing chunk: 2023-10-27 to 2024-02-04\n",
      "Materializing \u001b[1m\u001b[32m2\u001b[0m feature views from \u001b[1m\u001b[32m2023-10-27 00:00:00+00:00\u001b[0m to \u001b[1m\u001b[32m2024-02-04 00:00:00+00:00\u001b[0m into the \u001b[1m\u001b[32mredis\u001b[0m online store.\n",
      "\n",
      "\u001b[1m\u001b[32muser_rating_feature_view\u001b[0m:\n"
     ]
    },
    {
     "name": "stderr",
     "output_type": "stream",
     "text": [
      "E0000 00:00:1758937350.534192    3497 alts_credentials.cc:93] ALTS creds ignored. Not running on GCP and untrusted ALTS is not enabled.\n"
     ]
    },
    {
     "name": "stdout",
     "output_type": "stream",
     "text": [
      "\u001b[1m\u001b[32mmovie_details_feature_view\u001b[0m:\n"
     ]
    },
    {
     "name": "stderr",
     "output_type": "stream",
     "text": [
      "E0000 00:00:1758937353.397146    3497 alts_credentials.cc:93] ALTS creds ignored. Not running on GCP and untrusted ALTS is not enabled.\n"
     ]
    },
    {
     "name": "stdout",
     "output_type": "stream",
     "text": [
      "SUCCESS: Chunk 2023-10-27 completed.\n",
      "\n",
      "Materializing chunk: 2024-02-04 to 2024-05-14\n",
      "Materializing \u001b[1m\u001b[32m2\u001b[0m feature views from \u001b[1m\u001b[32m2024-02-04 00:00:00+00:00\u001b[0m to \u001b[1m\u001b[32m2024-05-14 00:00:00+00:00\u001b[0m into the \u001b[1m\u001b[32mredis\u001b[0m online store.\n",
      "\n",
      "\u001b[1m\u001b[32muser_rating_feature_view\u001b[0m:\n"
     ]
    },
    {
     "name": "stderr",
     "output_type": "stream",
     "text": [
      "E0000 00:00:1758937356.422501    3497 alts_credentials.cc:93] ALTS creds ignored. Not running on GCP and untrusted ALTS is not enabled.\n"
     ]
    },
    {
     "name": "stdout",
     "output_type": "stream",
     "text": [
      "\u001b[1m\u001b[32mmovie_details_feature_view\u001b[0m:\n"
     ]
    },
    {
     "name": "stderr",
     "output_type": "stream",
     "text": [
      "E0000 00:00:1758937359.205557    3497 alts_credentials.cc:93] ALTS creds ignored. Not running on GCP and untrusted ALTS is not enabled.\n"
     ]
    },
    {
     "name": "stdout",
     "output_type": "stream",
     "text": [
      "SUCCESS: Chunk 2024-02-04 completed.\n",
      "\n",
      "Materializing chunk: 2024-05-14 to 2024-08-22\n",
      "Materializing \u001b[1m\u001b[32m2\u001b[0m feature views from \u001b[1m\u001b[32m2024-05-14 00:00:00+00:00\u001b[0m to \u001b[1m\u001b[32m2024-08-22 00:00:00+00:00\u001b[0m into the \u001b[1m\u001b[32mredis\u001b[0m online store.\n",
      "\n",
      "\u001b[1m\u001b[32muser_rating_feature_view\u001b[0m:\n"
     ]
    },
    {
     "name": "stderr",
     "output_type": "stream",
     "text": [
      "E0000 00:00:1758937362.365005    3497 alts_credentials.cc:93] ALTS creds ignored. Not running on GCP and untrusted ALTS is not enabled.\n"
     ]
    },
    {
     "name": "stdout",
     "output_type": "stream",
     "text": [
      "\u001b[1m\u001b[32mmovie_details_feature_view\u001b[0m:\n"
     ]
    },
    {
     "name": "stderr",
     "output_type": "stream",
     "text": [
      "E0000 00:00:1758937365.015406    3497 alts_credentials.cc:93] ALTS creds ignored. Not running on GCP and untrusted ALTS is not enabled.\n"
     ]
    },
    {
     "name": "stdout",
     "output_type": "stream",
     "text": [
      "SUCCESS: Chunk 2024-05-14 completed.\n",
      "\n",
      "Materializing chunk: 2024-08-22 to 2024-11-30\n",
      "Materializing \u001b[1m\u001b[32m2\u001b[0m feature views from \u001b[1m\u001b[32m2024-08-22 00:00:00+00:00\u001b[0m to \u001b[1m\u001b[32m2024-11-30 00:00:00+00:00\u001b[0m into the \u001b[1m\u001b[32mredis\u001b[0m online store.\n",
      "\n",
      "\u001b[1m\u001b[32muser_rating_feature_view\u001b[0m:\n"
     ]
    },
    {
     "name": "stderr",
     "output_type": "stream",
     "text": [
      "E0000 00:00:1758937368.096430    3497 alts_credentials.cc:93] ALTS creds ignored. Not running on GCP and untrusted ALTS is not enabled.\n"
     ]
    },
    {
     "name": "stdout",
     "output_type": "stream",
     "text": [
      "\u001b[1m\u001b[32mmovie_details_feature_view\u001b[0m:\n"
     ]
    },
    {
     "name": "stderr",
     "output_type": "stream",
     "text": [
      "E0000 00:00:1758937370.919307    3497 alts_credentials.cc:93] ALTS creds ignored. Not running on GCP and untrusted ALTS is not enabled.\n"
     ]
    },
    {
     "name": "stdout",
     "output_type": "stream",
     "text": [
      "SUCCESS: Chunk 2024-08-22 completed.\n",
      "\n",
      "Materializing chunk: 2024-11-30 to 2025-03-10\n",
      "Materializing \u001b[1m\u001b[32m2\u001b[0m feature views from \u001b[1m\u001b[32m2024-11-30 00:00:00+00:00\u001b[0m to \u001b[1m\u001b[32m2025-03-10 00:00:00+00:00\u001b[0m into the \u001b[1m\u001b[32mredis\u001b[0m online store.\n",
      "\n",
      "\u001b[1m\u001b[32muser_rating_feature_view\u001b[0m:\n"
     ]
    },
    {
     "name": "stderr",
     "output_type": "stream",
     "text": [
      "E0000 00:00:1758937374.162796    3497 alts_credentials.cc:93] ALTS creds ignored. Not running on GCP and untrusted ALTS is not enabled.\n"
     ]
    },
    {
     "name": "stdout",
     "output_type": "stream",
     "text": [
      "\u001b[1m\u001b[32mmovie_details_feature_view\u001b[0m:\n"
     ]
    },
    {
     "name": "stderr",
     "output_type": "stream",
     "text": [
      "E0000 00:00:1758937376.937923    3497 alts_credentials.cc:93] ALTS creds ignored. Not running on GCP and untrusted ALTS is not enabled.\n"
     ]
    },
    {
     "name": "stdout",
     "output_type": "stream",
     "text": [
      "SUCCESS: Chunk 2024-11-30 completed.\n",
      "\n",
      "Materializing chunk: 2025-03-10 to 2025-06-18\n",
      "Materializing \u001b[1m\u001b[32m2\u001b[0m feature views from \u001b[1m\u001b[32m2025-03-10 00:00:00+00:00\u001b[0m to \u001b[1m\u001b[32m2025-06-18 00:00:00+00:00\u001b[0m into the \u001b[1m\u001b[32mredis\u001b[0m online store.\n",
      "\n",
      "\u001b[1m\u001b[32muser_rating_feature_view\u001b[0m:\n"
     ]
    },
    {
     "name": "stderr",
     "output_type": "stream",
     "text": [
      "E0000 00:00:1758937379.916424    3497 alts_credentials.cc:93] ALTS creds ignored. Not running on GCP and untrusted ALTS is not enabled.\n"
     ]
    },
    {
     "name": "stdout",
     "output_type": "stream",
     "text": [
      "\u001b[1m\u001b[32mmovie_details_feature_view\u001b[0m:\n"
     ]
    },
    {
     "name": "stderr",
     "output_type": "stream",
     "text": [
      "E0000 00:00:1758937382.761084    3497 alts_credentials.cc:93] ALTS creds ignored. Not running on GCP and untrusted ALTS is not enabled.\n"
     ]
    },
    {
     "name": "stdout",
     "output_type": "stream",
     "text": [
      "SUCCESS: Chunk 2025-03-10 completed.\n",
      "\n",
      "Materializing chunk: 2025-06-18 to 2025-09-26\n",
      "Materializing \u001b[1m\u001b[32m2\u001b[0m feature views from \u001b[1m\u001b[32m2025-06-18 00:00:00+00:00\u001b[0m to \u001b[1m\u001b[32m2025-09-26 00:00:00+00:00\u001b[0m into the \u001b[1m\u001b[32mredis\u001b[0m online store.\n",
      "\n",
      "\u001b[1m\u001b[32muser_rating_feature_view\u001b[0m:\n"
     ]
    },
    {
     "name": "stderr",
     "output_type": "stream",
     "text": [
      "E0000 00:00:1758937385.700478    3497 alts_credentials.cc:93] ALTS creds ignored. Not running on GCP and untrusted ALTS is not enabled.\n"
     ]
    },
    {
     "name": "stdout",
     "output_type": "stream",
     "text": [
      "\u001b[1m\u001b[32mmovie_details_feature_view\u001b[0m:\n"
     ]
    },
    {
     "name": "stderr",
     "output_type": "stream",
     "text": [
      "E0000 00:00:1758937388.668130    3497 alts_credentials.cc:93] ALTS creds ignored. Not running on GCP and untrusted ALTS is not enabled.\n"
     ]
    },
    {
     "name": "stdout",
     "output_type": "stream",
     "text": [
      "SUCCESS: Chunk 2025-06-18 completed.\n",
      "\n",
      "Materializing chunk: 2025-09-26 to 2025-09-27\n",
      "Materializing \u001b[1m\u001b[32m2\u001b[0m feature views from \u001b[1m\u001b[32m2025-09-26 00:00:00+00:00\u001b[0m to \u001b[1m\u001b[32m2025-09-27 01:09:54+00:00\u001b[0m into the \u001b[1m\u001b[32mredis\u001b[0m online store.\n",
      "\n",
      "\u001b[1m\u001b[32muser_rating_feature_view\u001b[0m:\n"
     ]
    },
    {
     "name": "stderr",
     "output_type": "stream",
     "text": [
      "E0000 00:00:1758937391.552017    3497 alts_credentials.cc:93] ALTS creds ignored. Not running on GCP and untrusted ALTS is not enabled.\n"
     ]
    },
    {
     "name": "stdout",
     "output_type": "stream",
     "text": [
      "\u001b[1m\u001b[32mmovie_details_feature_view\u001b[0m:\n"
     ]
    },
    {
     "name": "stderr",
     "output_type": "stream",
     "text": [
      "E0000 00:00:1758937394.400458    3497 alts_credentials.cc:93] ALTS creds ignored. Not running on GCP and untrusted ALTS is not enabled.\n"
     ]
    },
    {
     "name": "stdout",
     "output_type": "stream",
     "text": [
      "SUCCESS: Chunk 2025-09-26 completed.\n",
      "\n",
      "--- Overall Materialization Process Finished ---\n"
     ]
    }
   ],
   "source": [
    "import pandas as pd\n",
    "from datetime import datetime, timedelta\n",
    "from feast import FeatureStore\n",
    "\n",
    "# 1. Instantiate the FeatureStore\n",
    "# Ensure your working directory is the parent of the 'feast' directory\n",
    "store = FeatureStore(repo_path=\"./feast\")\n",
    "\n",
    "# --- 2. Define the Overall Materialization Window ---\n",
    "\n",
    "# The earliest date available in your historical data (based on your 'movies_source' dummy timestamp)\n",
    "OVERALL_START_DATE = datetime(2003, 1, 5, 0, 0, 0) \n",
    "# OVERALL_START_DATE = datetime(1995, 1, 1, 0, 0, 0) \n",
    "\n",
    "# The current date, or a chosen cutoff date\n",
    "OVERALL_END_DATE = datetime.now() \n",
    "# OVERALL_END_DATE = datetime(2000, 1, 1, 0, 0, 0)\n",
    "\n",
    "# Define the period length\n",
    "YEAR_PERIOD = timedelta(days=100) \n",
    "\n",
    "print(f\"--- Starting Feature Materialization in 1-Year Chunks ---\")\n",
    "print(f\"Overall Data Range: {OVERALL_START_DATE.date()} to {OVERALL_END_DATE.date()}\")\n",
    "\n",
    "# 3. Loop through the time range in 1-year increments\n",
    "current_start = OVERALL_START_DATE\n",
    "\n",
    "while current_start < OVERALL_END_DATE:\n",
    "    \n",
    "    # Calculate the end date for the current chunk (one year later, or the overall end date)\n",
    "    current_end = current_start + YEAR_PERIOD\n",
    "    if current_end > OVERALL_END_DATE:\n",
    "        current_end = OVERALL_END_DATE\n",
    "\n",
    "    # Stop the loop if the current chunk is just the remainder\n",
    "    if current_start >= current_end:\n",
    "        break\n",
    "    \n",
    "    print(f\"\\nMaterializing chunk: {current_start.date()} to {current_end.date()}\")\n",
    "    \n",
    "    try:\n",
    "        # Use store.materialize() to explicitly set both start and end dates\n",
    "        # Use store.materialize_incremental() if you want Feast to automatically manage\n",
    "        # the start time based on the last successful run, but for forced chunks,\n",
    "        # 'materialize' is cleaner. We use 'materialize' here.\n",
    "        store.materialize(\n",
    "            feature_views=[\n",
    "                \"user_rating_feature_view\",\n",
    "                \"movie_details_feature_view\",\n",
    "            ],\n",
    "            start_date=current_start,\n",
    "            end_date=current_end,\n",
    "        )\n",
    "        print(f\"SUCCESS: Chunk {current_start.date()} completed.\")\n",
    "\n",
    "    except Exception as e:\n",
    "        print(f\"FAILURE: Chunk {current_start.date()} failed.\")\n",
    "        raise e\n",
    "        # Optionally, break the loop or add retry logic here\n",
    "        break\n",
    "\n",
    "    # Advance the start date for the next iteration\n",
    "    current_start = current_end\n",
    "    \n",
    "print(\"\\n--- Overall Materialization Process Finished ---\")\n",
    "\n",
    "# Optional: You can still run the retrieval code here\n",
    "# training_data = store.get_historical_features(...)\n",
    "# df = training_data.to_df()"
   ]
  },
  {
   "cell_type": "markdown",
   "id": "a6492a9a-4c3b-40ab-950e-c37492e74574",
   "metadata": {},
   "source": [
    "## Testing"
   ]
  },
  {
   "cell_type": "code",
   "execution_count": 3,
   "id": "a5a01464-b6ad-4f50-9e2c-cb076fce4b65",
   "metadata": {},
   "outputs": [
    {
     "ename": "AuthenticationError",
     "evalue": "Authentication required.",
     "output_type": "error",
     "traceback": [
      "\u001b[31m---------------------------------------------------------------------------\u001b[39m",
      "\u001b[31mAuthenticationError\u001b[39m                       Traceback (most recent call last)",
      "\u001b[36mCell\u001b[39m\u001b[36m \u001b[39m\u001b[32mIn[3]\u001b[39m\u001b[32m, line 13\u001b[39m\n\u001b[32m      6\u001b[39m store = FeatureStore(repo_path=\u001b[33m\"\u001b[39m\u001b[33m./feast\u001b[39m\u001b[33m\"\u001b[39m)\n\u001b[32m      8\u001b[39m entity_rows = {\n\u001b[32m      9\u001b[39m         \u001b[33m\"\u001b[39m\u001b[33muserid\u001b[39m\u001b[33m\"\u001b[39m: [\u001b[32m1\u001b[39m, \u001b[32m1\u001b[39m],\n\u001b[32m     10\u001b[39m         \u001b[33m\"\u001b[39m\u001b[33mmovieid\u001b[39m\u001b[33m\"\u001b[39m: [\u001b[32m296\u001b[39m, \u001b[32m306\u001b[39m]\n\u001b[32m     11\u001b[39m     }\n\u001b[32m---> \u001b[39m\u001b[32m13\u001b[39m training_data = \u001b[43mstore\u001b[49m\u001b[43m.\u001b[49m\u001b[43mget_online_features\u001b[49m\u001b[43m(\u001b[49m\n\u001b[32m     14\u001b[39m \u001b[43m    \u001b[49m\u001b[43mentity_rows\u001b[49m\u001b[43m=\u001b[49m\u001b[43mentity_rows\u001b[49m\u001b[43m,\u001b[49m\n\u001b[32m     15\u001b[39m \u001b[43m    \u001b[49m\u001b[43mfeatures\u001b[49m\u001b[43m=\u001b[49m\u001b[43mstore\u001b[49m\u001b[43m.\u001b[49m\u001b[43mget_feature_service\u001b[49m\u001b[43m(\u001b[49m\u001b[33;43m\"\u001b[39;49m\u001b[33;43mmovie_recommender_service_all\u001b[39;49m\u001b[33;43m\"\u001b[39;49m\u001b[43m)\u001b[49m\u001b[43m,\u001b[49m\n\u001b[32m     16\u001b[39m \u001b[43m)\u001b[49m\n\u001b[32m     18\u001b[39m training_data.to_dict()\n",
      "\u001b[36mFile \u001b[39m\u001b[32m/opt/conda/envs/feast-env/lib/python3.11/site-packages/feast/feature_store.py:2080\u001b[39m, in \u001b[36mFeatureStore.get_online_features\u001b[39m\u001b[34m(self, features, entity_rows, full_feature_names)\u001b[39m\n\u001b[32m   2037\u001b[39m \u001b[38;5;250m\u001b[39m\u001b[33;03m\"\"\"\u001b[39;00m\n\u001b[32m   2038\u001b[39m \u001b[33;03mRetrieves the latest online feature data.\u001b[39;00m\n\u001b[32m   2039\u001b[39m \n\u001b[32m   (...)\u001b[39m\u001b[32m   2076\u001b[39m \u001b[33;03m    >>> online_response_dict = online_response.to_dict()\u001b[39;00m\n\u001b[32m   2077\u001b[39m \u001b[33;03m\"\"\"\u001b[39;00m\n\u001b[32m   2078\u001b[39m provider = \u001b[38;5;28mself\u001b[39m._get_provider()\n\u001b[32m-> \u001b[39m\u001b[32m2080\u001b[39m \u001b[38;5;28;01mreturn\u001b[39;00m \u001b[43mprovider\u001b[49m\u001b[43m.\u001b[49m\u001b[43mget_online_features\u001b[49m\u001b[43m(\u001b[49m\n\u001b[32m   2081\u001b[39m \u001b[43m    \u001b[49m\u001b[43mconfig\u001b[49m\u001b[43m=\u001b[49m\u001b[38;5;28;43mself\u001b[39;49m\u001b[43m.\u001b[49m\u001b[43mconfig\u001b[49m\u001b[43m,\u001b[49m\n\u001b[32m   2082\u001b[39m \u001b[43m    \u001b[49m\u001b[43mfeatures\u001b[49m\u001b[43m=\u001b[49m\u001b[43mfeatures\u001b[49m\u001b[43m,\u001b[49m\n\u001b[32m   2083\u001b[39m \u001b[43m    \u001b[49m\u001b[43mentity_rows\u001b[49m\u001b[43m=\u001b[49m\u001b[43mentity_rows\u001b[49m\u001b[43m,\u001b[49m\n\u001b[32m   2084\u001b[39m \u001b[43m    \u001b[49m\u001b[43mregistry\u001b[49m\u001b[43m=\u001b[49m\u001b[38;5;28;43mself\u001b[39;49m\u001b[43m.\u001b[49m\u001b[43m_registry\u001b[49m\u001b[43m,\u001b[49m\n\u001b[32m   2085\u001b[39m \u001b[43m    \u001b[49m\u001b[43mproject\u001b[49m\u001b[43m=\u001b[49m\u001b[38;5;28;43mself\u001b[39;49m\u001b[43m.\u001b[49m\u001b[43mproject\u001b[49m\u001b[43m,\u001b[49m\n\u001b[32m   2086\u001b[39m \u001b[43m    \u001b[49m\u001b[43mfull_feature_names\u001b[49m\u001b[43m=\u001b[49m\u001b[43mfull_feature_names\u001b[49m\u001b[43m,\u001b[49m\n\u001b[32m   2087\u001b[39m \u001b[43m\u001b[49m\u001b[43m)\u001b[49m\n",
      "\u001b[36mFile \u001b[39m\u001b[32m/opt/conda/envs/feast-env/lib/python3.11/site-packages/feast/infra/passthrough_provider.py:251\u001b[39m, in \u001b[36mPassthroughProvider.get_online_features\u001b[39m\u001b[34m(self, config, features, entity_rows, registry, project, full_feature_names)\u001b[39m\n\u001b[32m    239\u001b[39m \u001b[38;5;28;01mdef\u001b[39;00m\u001b[38;5;250m \u001b[39m\u001b[34mget_online_features\u001b[39m(\n\u001b[32m    240\u001b[39m     \u001b[38;5;28mself\u001b[39m,\n\u001b[32m    241\u001b[39m     config: RepoConfig,\n\u001b[32m   (...)\u001b[39m\u001b[32m    249\u001b[39m     full_feature_names: \u001b[38;5;28mbool\u001b[39m = \u001b[38;5;28;01mFalse\u001b[39;00m,\n\u001b[32m    250\u001b[39m ) -> OnlineResponse:\n\u001b[32m--> \u001b[39m\u001b[32m251\u001b[39m     \u001b[38;5;28;01mreturn\u001b[39;00m \u001b[38;5;28;43mself\u001b[39;49m\u001b[43m.\u001b[49m\u001b[43monline_store\u001b[49m\u001b[43m.\u001b[49m\u001b[43mget_online_features\u001b[49m\u001b[43m(\u001b[49m\n\u001b[32m    252\u001b[39m \u001b[43m        \u001b[49m\u001b[43mconfig\u001b[49m\u001b[43m=\u001b[49m\u001b[43mconfig\u001b[49m\u001b[43m,\u001b[49m\n\u001b[32m    253\u001b[39m \u001b[43m        \u001b[49m\u001b[43mfeatures\u001b[49m\u001b[43m=\u001b[49m\u001b[43mfeatures\u001b[49m\u001b[43m,\u001b[49m\n\u001b[32m    254\u001b[39m \u001b[43m        \u001b[49m\u001b[43mentity_rows\u001b[49m\u001b[43m=\u001b[49m\u001b[43mentity_rows\u001b[49m\u001b[43m,\u001b[49m\n\u001b[32m    255\u001b[39m \u001b[43m        \u001b[49m\u001b[43mregistry\u001b[49m\u001b[43m=\u001b[49m\u001b[43mregistry\u001b[49m\u001b[43m,\u001b[49m\n\u001b[32m    256\u001b[39m \u001b[43m        \u001b[49m\u001b[43mproject\u001b[49m\u001b[43m=\u001b[49m\u001b[43mproject\u001b[49m\u001b[43m,\u001b[49m\n\u001b[32m    257\u001b[39m \u001b[43m        \u001b[49m\u001b[43mfull_feature_names\u001b[49m\u001b[43m=\u001b[49m\u001b[43mfull_feature_names\u001b[49m\u001b[43m,\u001b[49m\n\u001b[32m    258\u001b[39m \u001b[43m    \u001b[49m\u001b[43m)\u001b[49m\n",
      "\u001b[36mFile \u001b[39m\u001b[32m/opt/conda/envs/feast-env/lib/python3.11/site-packages/feast/infra/online_stores/online_store.py:199\u001b[39m, in \u001b[36mOnlineStore.get_online_features\u001b[39m\u001b[34m(self, config, features, entity_rows, registry, project, full_feature_names)\u001b[39m\n\u001b[32m    196\u001b[39m entity_key_protos = utils._get_entity_key_protos(table_entity_values)\n\u001b[32m    198\u001b[39m \u001b[38;5;66;03m# Fetch data for Entities.\u001b[39;00m\n\u001b[32m--> \u001b[39m\u001b[32m199\u001b[39m read_rows = \u001b[38;5;28;43mself\u001b[39;49m\u001b[43m.\u001b[49m\u001b[43monline_read\u001b[49m\u001b[43m(\u001b[49m\n\u001b[32m    200\u001b[39m \u001b[43m    \u001b[49m\u001b[43mconfig\u001b[49m\u001b[43m=\u001b[49m\u001b[43mconfig\u001b[49m\u001b[43m,\u001b[49m\n\u001b[32m    201\u001b[39m \u001b[43m    \u001b[49m\u001b[43mtable\u001b[49m\u001b[43m=\u001b[49m\u001b[43mtable\u001b[49m\u001b[43m,\u001b[49m\n\u001b[32m    202\u001b[39m \u001b[43m    \u001b[49m\u001b[43mentity_keys\u001b[49m\u001b[43m=\u001b[49m\u001b[43mentity_key_protos\u001b[49m\u001b[43m,\u001b[49m\n\u001b[32m    203\u001b[39m \u001b[43m    \u001b[49m\u001b[43mrequested_features\u001b[49m\u001b[43m=\u001b[49m\u001b[43mrequested_features\u001b[49m\u001b[43m,\u001b[49m\n\u001b[32m    204\u001b[39m \u001b[43m\u001b[49m\u001b[43m)\u001b[49m\n\u001b[32m    206\u001b[39m feature_data = utils._convert_rows_to_protobuf(\n\u001b[32m    207\u001b[39m     requested_features, read_rows\n\u001b[32m    208\u001b[39m )\n\u001b[32m    210\u001b[39m \u001b[38;5;66;03m# Populate the result_rows with the Features from the OnlineStore inplace.\u001b[39;00m\n",
      "\u001b[36mFile \u001b[39m\u001b[32m/opt/conda/envs/feast-env/lib/python3.11/site-packages/feast/infra/online_stores/redis.py:403\u001b[39m, in \u001b[36mRedisOnlineStore.online_read\u001b[39m\u001b[34m(self, config, table, entity_keys, requested_features)\u001b[39m\n\u001b[32m    400\u001b[39m     \u001b[38;5;28;01mfor\u001b[39;00m redis_key_bin \u001b[38;5;129;01min\u001b[39;00m keys:\n\u001b[32m    401\u001b[39m         pipe.hmget(redis_key_bin, hset_keys)\n\u001b[32m--> \u001b[39m\u001b[32m403\u001b[39m     redis_values = \u001b[43mpipe\u001b[49m\u001b[43m.\u001b[49m\u001b[43mexecute\u001b[49m\u001b[43m(\u001b[49m\u001b[43m)\u001b[49m\n\u001b[32m    405\u001b[39m \u001b[38;5;28;01mreturn\u001b[39;00m \u001b[38;5;28mself\u001b[39m._convert_redis_values_to_protobuf(\n\u001b[32m    406\u001b[39m     redis_values, feature_view.name, requested_features\n\u001b[32m    407\u001b[39m )\n",
      "\u001b[36mFile \u001b[39m\u001b[32m/opt/conda/envs/feast-env/lib/python3.11/site-packages/redis/client.py:2120\u001b[39m, in \u001b[36mPipeline.execute\u001b[39m\u001b[34m(self, raise_on_error)\u001b[39m\n\u001b[32m   2117\u001b[39m     \u001b[38;5;28mself\u001b[39m.connection = conn\n\u001b[32m   2119\u001b[39m \u001b[38;5;28;01mtry\u001b[39;00m:\n\u001b[32m-> \u001b[39m\u001b[32m2120\u001b[39m     \u001b[38;5;28;01mreturn\u001b[39;00m \u001b[43mconn\u001b[49m\u001b[43m.\u001b[49m\u001b[43mretry\u001b[49m\u001b[43m.\u001b[49m\u001b[43mcall_with_retry\u001b[49m\u001b[43m(\u001b[49m\n\u001b[32m   2121\u001b[39m \u001b[43m        \u001b[49m\u001b[38;5;28;43;01mlambda\u001b[39;49;00m\u001b[43m:\u001b[49m\u001b[43m \u001b[49m\u001b[43mexecute\u001b[49m\u001b[43m(\u001b[49m\u001b[43mconn\u001b[49m\u001b[43m,\u001b[49m\u001b[43m \u001b[49m\u001b[43mstack\u001b[49m\u001b[43m,\u001b[49m\u001b[43m \u001b[49m\u001b[43mraise_on_error\u001b[49m\u001b[43m)\u001b[49m\u001b[43m,\u001b[49m\n\u001b[32m   2122\u001b[39m \u001b[43m        \u001b[49m\u001b[38;5;28;43;01mlambda\u001b[39;49;00m\u001b[43m \u001b[49m\u001b[43merror\u001b[49m\u001b[43m:\u001b[49m\u001b[43m \u001b[49m\u001b[38;5;28;43mself\u001b[39;49m\u001b[43m.\u001b[49m\u001b[43m_disconnect_raise_reset\u001b[49m\u001b[43m(\u001b[49m\u001b[43mconn\u001b[49m\u001b[43m,\u001b[49m\u001b[43m \u001b[49m\u001b[43merror\u001b[49m\u001b[43m)\u001b[49m\u001b[43m,\u001b[49m\n\u001b[32m   2123\u001b[39m \u001b[43m    \u001b[49m\u001b[43m)\u001b[49m\n\u001b[32m   2124\u001b[39m \u001b[38;5;28;01mfinally\u001b[39;00m:\n\u001b[32m   2125\u001b[39m     \u001b[38;5;28mself\u001b[39m.reset()\n",
      "\u001b[36mFile \u001b[39m\u001b[32m/opt/conda/envs/feast-env/lib/python3.11/site-packages/redis/retry.py:49\u001b[39m, in \u001b[36mRetry.call_with_retry\u001b[39m\u001b[34m(self, do, fail)\u001b[39m\n\u001b[32m     47\u001b[39m \u001b[38;5;28;01mexcept\u001b[39;00m \u001b[38;5;28mself\u001b[39m._supported_errors \u001b[38;5;28;01mas\u001b[39;00m error:\n\u001b[32m     48\u001b[39m     failures += \u001b[32m1\u001b[39m\n\u001b[32m---> \u001b[39m\u001b[32m49\u001b[39m     \u001b[43mfail\u001b[49m\u001b[43m(\u001b[49m\u001b[43merror\u001b[49m\u001b[43m)\u001b[49m\n\u001b[32m     50\u001b[39m     \u001b[38;5;28;01mif\u001b[39;00m \u001b[38;5;28mself\u001b[39m._retries >= \u001b[32m0\u001b[39m \u001b[38;5;129;01mand\u001b[39;00m failures > \u001b[38;5;28mself\u001b[39m._retries:\n\u001b[32m     51\u001b[39m         \u001b[38;5;28;01mraise\u001b[39;00m error\n",
      "\u001b[36mFile \u001b[39m\u001b[32m/opt/conda/envs/feast-env/lib/python3.11/site-packages/redis/client.py:2122\u001b[39m, in \u001b[36mPipeline.execute.<locals>.<lambda>\u001b[39m\u001b[34m(error)\u001b[39m\n\u001b[32m   2117\u001b[39m     \u001b[38;5;28mself\u001b[39m.connection = conn\n\u001b[32m   2119\u001b[39m \u001b[38;5;28;01mtry\u001b[39;00m:\n\u001b[32m   2120\u001b[39m     \u001b[38;5;28;01mreturn\u001b[39;00m conn.retry.call_with_retry(\n\u001b[32m   2121\u001b[39m         \u001b[38;5;28;01mlambda\u001b[39;00m: execute(conn, stack, raise_on_error),\n\u001b[32m-> \u001b[39m\u001b[32m2122\u001b[39m         \u001b[38;5;28;01mlambda\u001b[39;00m error: \u001b[38;5;28;43mself\u001b[39;49m\u001b[43m.\u001b[49m\u001b[43m_disconnect_raise_reset\u001b[49m\u001b[43m(\u001b[49m\u001b[43mconn\u001b[49m\u001b[43m,\u001b[49m\u001b[43m \u001b[49m\u001b[43merror\u001b[49m\u001b[43m)\u001b[49m,\n\u001b[32m   2123\u001b[39m     )\n\u001b[32m   2124\u001b[39m \u001b[38;5;28;01mfinally\u001b[39;00m:\n\u001b[32m   2125\u001b[39m     \u001b[38;5;28mself\u001b[39m.reset()\n",
      "\u001b[36mFile \u001b[39m\u001b[32m/opt/conda/envs/feast-env/lib/python3.11/site-packages/redis/retry.py:46\u001b[39m, in \u001b[36mRetry.call_with_retry\u001b[39m\u001b[34m(self, do, fail)\u001b[39m\n\u001b[32m     44\u001b[39m \u001b[38;5;28;01mwhile\u001b[39;00m \u001b[38;5;28;01mTrue\u001b[39;00m:\n\u001b[32m     45\u001b[39m     \u001b[38;5;28;01mtry\u001b[39;00m:\n\u001b[32m---> \u001b[39m\u001b[32m46\u001b[39m         \u001b[38;5;28;01mreturn\u001b[39;00m \u001b[43mdo\u001b[49m\u001b[43m(\u001b[49m\u001b[43m)\u001b[49m\n\u001b[32m     47\u001b[39m     \u001b[38;5;28;01mexcept\u001b[39;00m \u001b[38;5;28mself\u001b[39m._supported_errors \u001b[38;5;28;01mas\u001b[39;00m error:\n\u001b[32m     48\u001b[39m         failures += \u001b[32m1\u001b[39m\n",
      "\u001b[36mFile \u001b[39m\u001b[32m/opt/conda/envs/feast-env/lib/python3.11/site-packages/redis/client.py:2121\u001b[39m, in \u001b[36mPipeline.execute.<locals>.<lambda>\u001b[39m\u001b[34m()\u001b[39m\n\u001b[32m   2117\u001b[39m     \u001b[38;5;28mself\u001b[39m.connection = conn\n\u001b[32m   2119\u001b[39m \u001b[38;5;28;01mtry\u001b[39;00m:\n\u001b[32m   2120\u001b[39m     \u001b[38;5;28;01mreturn\u001b[39;00m conn.retry.call_with_retry(\n\u001b[32m-> \u001b[39m\u001b[32m2121\u001b[39m         \u001b[38;5;28;01mlambda\u001b[39;00m: \u001b[43mexecute\u001b[49m\u001b[43m(\u001b[49m\u001b[43mconn\u001b[49m\u001b[43m,\u001b[49m\u001b[43m \u001b[49m\u001b[43mstack\u001b[49m\u001b[43m,\u001b[49m\u001b[43m \u001b[49m\u001b[43mraise_on_error\u001b[49m\u001b[43m)\u001b[49m,\n\u001b[32m   2122\u001b[39m         \u001b[38;5;28;01mlambda\u001b[39;00m error: \u001b[38;5;28mself\u001b[39m._disconnect_raise_reset(conn, error),\n\u001b[32m   2123\u001b[39m     )\n\u001b[32m   2124\u001b[39m \u001b[38;5;28;01mfinally\u001b[39;00m:\n\u001b[32m   2125\u001b[39m     \u001b[38;5;28mself\u001b[39m.reset()\n",
      "\u001b[36mFile \u001b[39m\u001b[32m/opt/conda/envs/feast-env/lib/python3.11/site-packages/redis/client.py:2037\u001b[39m, in \u001b[36mPipeline._execute_pipeline\u001b[39m\u001b[34m(self, connection, commands, raise_on_error)\u001b[39m\n\u001b[32m   2035\u001b[39m \u001b[38;5;28;01mfor\u001b[39;00m args, options \u001b[38;5;129;01min\u001b[39;00m commands:\n\u001b[32m   2036\u001b[39m     \u001b[38;5;28;01mtry\u001b[39;00m:\n\u001b[32m-> \u001b[39m\u001b[32m2037\u001b[39m         response.append(\u001b[38;5;28;43mself\u001b[39;49m\u001b[43m.\u001b[49m\u001b[43mparse_response\u001b[49m\u001b[43m(\u001b[49m\u001b[43mconnection\u001b[49m\u001b[43m,\u001b[49m\u001b[43m \u001b[49m\u001b[43margs\u001b[49m\u001b[43m[\u001b[49m\u001b[32;43m0\u001b[39;49m\u001b[43m]\u001b[49m\u001b[43m,\u001b[49m\u001b[43m \u001b[49m\u001b[43m*\u001b[49m\u001b[43m*\u001b[49m\u001b[43moptions\u001b[49m\u001b[43m)\u001b[49m)\n\u001b[32m   2038\u001b[39m     \u001b[38;5;28;01mexcept\u001b[39;00m ResponseError \u001b[38;5;28;01mas\u001b[39;00m e:\n\u001b[32m   2039\u001b[39m         response.append(e)\n",
      "\u001b[36mFile \u001b[39m\u001b[32m/opt/conda/envs/feast-env/lib/python3.11/site-packages/redis/client.py:2060\u001b[39m, in \u001b[36mPipeline.parse_response\u001b[39m\u001b[34m(self, connection, command_name, **options)\u001b[39m\n\u001b[32m   2059\u001b[39m \u001b[38;5;28;01mdef\u001b[39;00m\u001b[38;5;250m \u001b[39m\u001b[34mparse_response\u001b[39m(\u001b[38;5;28mself\u001b[39m, connection, command_name, **options):\n\u001b[32m-> \u001b[39m\u001b[32m2060\u001b[39m     result = \u001b[43mRedis\u001b[49m\u001b[43m.\u001b[49m\u001b[43mparse_response\u001b[49m\u001b[43m(\u001b[49m\u001b[38;5;28;43mself\u001b[39;49m\u001b[43m,\u001b[49m\u001b[43m \u001b[49m\u001b[43mconnection\u001b[49m\u001b[43m,\u001b[49m\u001b[43m \u001b[49m\u001b[43mcommand_name\u001b[49m\u001b[43m,\u001b[49m\u001b[43m \u001b[49m\u001b[43m*\u001b[49m\u001b[43m*\u001b[49m\u001b[43moptions\u001b[49m\u001b[43m)\u001b[49m\n\u001b[32m   2061\u001b[39m     \u001b[38;5;28;01mif\u001b[39;00m command_name \u001b[38;5;129;01min\u001b[39;00m \u001b[38;5;28mself\u001b[39m.UNWATCH_COMMANDS:\n\u001b[32m   2062\u001b[39m         \u001b[38;5;28mself\u001b[39m.watching = \u001b[38;5;28;01mFalse\u001b[39;00m\n",
      "\u001b[36mFile \u001b[39m\u001b[32m/opt/conda/envs/feast-env/lib/python3.11/site-packages/redis/client.py:1286\u001b[39m, in \u001b[36mRedis.parse_response\u001b[39m\u001b[34m(self, connection, command_name, **options)\u001b[39m\n\u001b[32m   1284\u001b[39m         options.pop(NEVER_DECODE)\n\u001b[32m   1285\u001b[39m     \u001b[38;5;28;01melse\u001b[39;00m:\n\u001b[32m-> \u001b[39m\u001b[32m1286\u001b[39m         response = \u001b[43mconnection\u001b[49m\u001b[43m.\u001b[49m\u001b[43mread_response\u001b[49m\u001b[43m(\u001b[49m\u001b[43m)\u001b[49m\n\u001b[32m   1287\u001b[39m \u001b[38;5;28;01mexcept\u001b[39;00m ResponseError:\n\u001b[32m   1288\u001b[39m     \u001b[38;5;28;01mif\u001b[39;00m EMPTY_RESPONSE \u001b[38;5;129;01min\u001b[39;00m options:\n",
      "\u001b[36mFile \u001b[39m\u001b[32m/opt/conda/envs/feast-env/lib/python3.11/site-packages/redis/connection.py:882\u001b[39m, in \u001b[36mAbstractConnection.read_response\u001b[39m\u001b[34m(self, disable_decoding, disconnect_on_error)\u001b[39m\n\u001b[32m    879\u001b[39m host_error = \u001b[38;5;28mself\u001b[39m._host_error()\n\u001b[32m    881\u001b[39m \u001b[38;5;28;01mtry\u001b[39;00m:\n\u001b[32m--> \u001b[39m\u001b[32m882\u001b[39m     response = \u001b[38;5;28;43mself\u001b[39;49m\u001b[43m.\u001b[49m\u001b[43m_parser\u001b[49m\u001b[43m.\u001b[49m\u001b[43mread_response\u001b[49m\u001b[43m(\u001b[49m\u001b[43mdisable_decoding\u001b[49m\u001b[43m=\u001b[49m\u001b[43mdisable_decoding\u001b[49m\u001b[43m)\u001b[49m\n\u001b[32m    883\u001b[39m \u001b[38;5;28;01mexcept\u001b[39;00m socket.timeout:\n\u001b[32m    884\u001b[39m     \u001b[38;5;28;01mif\u001b[39;00m disconnect_on_error:\n",
      "\u001b[36mFile \u001b[39m\u001b[32m/opt/conda/envs/feast-env/lib/python3.11/site-packages/redis/connection.py:504\u001b[39m, in \u001b[36mHiredisParser.read_response\u001b[39m\u001b[34m(self, disable_decoding)\u001b[39m\n\u001b[32m    500\u001b[39m \u001b[38;5;66;03m# if the response is a ConnectionError or the response is a list and\u001b[39;00m\n\u001b[32m    501\u001b[39m \u001b[38;5;66;03m# the first item is a ConnectionError, raise it as something bad\u001b[39;00m\n\u001b[32m    502\u001b[39m \u001b[38;5;66;03m# happened\u001b[39;00m\n\u001b[32m    503\u001b[39m \u001b[38;5;28;01mif\u001b[39;00m \u001b[38;5;28misinstance\u001b[39m(response, \u001b[38;5;167;01mConnectionError\u001b[39;00m):\n\u001b[32m--> \u001b[39m\u001b[32m504\u001b[39m     \u001b[38;5;28;01mraise\u001b[39;00m response\n\u001b[32m    505\u001b[39m \u001b[38;5;28;01melif\u001b[39;00m (\n\u001b[32m    506\u001b[39m     \u001b[38;5;28misinstance\u001b[39m(response, \u001b[38;5;28mlist\u001b[39m)\n\u001b[32m    507\u001b[39m     \u001b[38;5;129;01mand\u001b[39;00m response\n\u001b[32m    508\u001b[39m     \u001b[38;5;129;01mand\u001b[39;00m \u001b[38;5;28misinstance\u001b[39m(response[\u001b[32m0\u001b[39m], \u001b[38;5;167;01mConnectionError\u001b[39;00m)\n\u001b[32m    509\u001b[39m ):\n\u001b[32m    510\u001b[39m     \u001b[38;5;28;01mraise\u001b[39;00m response[\u001b[32m0\u001b[39m]\n",
      "\u001b[31mAuthenticationError\u001b[39m: Authentication required."
     ]
    }
   ],
   "source": [
    "import pandas as pd\n",
    "from datetime import datetime\n",
    "from feast import FeatureStore\n",
    "\n",
    "# 1. Instantiate the FeatureStore\n",
    "store = FeatureStore(repo_path=\"./feast\")\n",
    "\n",
    "entity_rows = {\n",
    "        \"userid\": [1, 1],\n",
    "        \"movieid\": [296, 306]\n",
    "    }\n",
    "\n",
    "training_data = store.get_online_features(\n",
    "    entity_rows=entity_rows,\n",
    "    features=store.get_feature_service(\"movie_recommender_service_all\"),\n",
    ")\n",
    "\n",
    "training_data.to_dict()"
   ]
  },
  {
   "cell_type": "code",
   "execution_count": 4,
   "id": "46a56537-f34c-4280-b77c-2d4000cf78dd",
   "metadata": {},
   "outputs": [
    {
     "data": {
      "text/plain": [
       "{'movieid': [4543,\n",
       "  4544,\n",
       "  4545,\n",
       "  4546,\n",
       "  4547,\n",
       "  4548,\n",
       "  4549,\n",
       "  4550,\n",
       "  4551,\n",
       "  4552,\n",
       "  4553,\n",
       "  4554],\n",
       " 'title': ['Shoot to Kill (1988)',\n",
       "  'Short Circuit 2 (1988)',\n",
       "  'Short Circuit (1986)',\n",
       "  'Vanishing, The (Spoorloos) (1988)',\n",
       "  'Stormy Monday (1988)',\n",
       "  'Sunset (1988)',\n",
       "  'Sweet Hearts Dance (1988)',\n",
       "  'Switching Channels (1988)',\n",
       "  'Telephone, The (1988)',\n",
       "  'Tetsuo, the Ironman (Tetsuo) (1988)',\n",
       "  'They Live (1988)',\n",
       "  'To Kill a Priest (1988)'],\n",
       " 'genres': ['Action|Adventure',\n",
       "  'Comedy|Sci-Fi',\n",
       "  'Comedy|Sci-Fi',\n",
       "  'Drama|Thriller',\n",
       "  'Crime|Drama',\n",
       "  'Action|Comedy|Thriller|Western',\n",
       "  'Drama',\n",
       "  'Comedy',\n",
       "  'Comedy',\n",
       "  'Action|Horror|Sci-Fi|Thriller',\n",
       "  'Action|Sci-Fi|Thriller',\n",
       "  'Drama']}"
      ]
     },
     "execution_count": 4,
     "metadata": {},
     "output_type": "execute_result"
    }
   ],
   "source": [
    "store.get_online_features(\n",
    "    entity_rows={\"movieid\": list(range(4543, 4555))},\n",
    "    features=[\n",
    "        \"movie_details_feature_view:genres\",\n",
    "        \"movie_details_feature_view:title\",\n",
    "    ],\n",
    ").to_dict()"
   ]
  },
  {
   "cell_type": "code",
   "execution_count": null,
   "id": "b9ada60d-37c1-4c66-928f-7de64e4fdf91",
   "metadata": {},
   "outputs": [],
   "source": []
  },
  {
   "cell_type": "code",
   "execution_count": null,
   "id": "2e2b9057-9f74-4c54-b3f6-6160823eac75",
   "metadata": {},
   "outputs": [],
   "source": []
  }
 ],
 "metadata": {
  "kernelspec": {
   "display_name": "Feast",
   "language": "python",
   "name": "feast-env"
  },
  "language_info": {
   "codemirror_mode": {
    "name": "ipython",
    "version": 3
   },
   "file_extension": ".py",
   "mimetype": "text/x-python",
   "name": "python",
   "nbconvert_exporter": "python",
   "pygments_lexer": "ipython3",
   "version": "3.11.13"
  }
 },
 "nbformat": 4,
 "nbformat_minor": 5
}
